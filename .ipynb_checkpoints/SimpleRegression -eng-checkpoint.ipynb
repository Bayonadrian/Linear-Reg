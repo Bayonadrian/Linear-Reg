{
 "cells": [
  {
   "cell_type": "markdown",
   "metadata": {
    "id": "qgMhUG6dJ8Ez"
   },
   "source": [
    "# Simple linear regression\n",
    "Simple linear regression occurs when only two variables are used, one dependent and one independent."
   ]
  },
  {
   "cell_type": "code",
   "execution_count": null,
   "metadata": {
    "colab": {
     "base_uri": "https://localhost:8080/"
    },
    "executionInfo": {
     "elapsed": 2403,
     "status": "ok",
     "timestamp": 1643578739169,
     "user": {
      "displayName": "Adrian Hermoza Bayona",
      "photoUrl": "https://lh3.googleusercontent.com/a/default-user=s64",
      "userId": "18407196184190084623"
     },
     "user_tz": 300
    },
    "id": "Xg7kYNMoKD10",
    "outputId": "20baec89-9b0f-496c-94d4-4724eb664c12"
   },
   "outputs": [
    {
     "name": "stdout",
     "output_type": "stream",
     "text": [
      "Drive already mounted at /content/Drive; to attempt to forcibly remount, call drive.mount(\"/content/Drive\", force_remount=True).\n"
     ]
    }
   ],
   "source": [
    "from google.colab import drive\n",
    "drive.mount('/content/Drive')"
   ]
  },
  {
   "cell_type": "code",
   "execution_count": null,
   "metadata": {
    "colab": {
     "base_uri": "https://localhost:8080/"
    },
    "executionInfo": {
     "elapsed": 16,
     "status": "ok",
     "timestamp": 1643578739170,
     "user": {
      "displayName": "Adrian Hermoza Bayona",
      "photoUrl": "https://lh3.googleusercontent.com/a/default-user=s64",
      "userId": "18407196184190084623"
     },
     "user_tz": 300
    },
    "id": "HU15bWRgKeEQ",
    "outputId": "eb3b4bed-29e2-4361-91fc-79b1b30dcc56"
   },
   "outputs": [
    {
     "name": "stdout",
     "output_type": "stream",
     "text": [
      "/content/Drive/MyDrive/Colab Notebooks/MachineLearning/Models/LinearRegression/Linear Example Advanced/Simple Linear Regression\n",
      "SimpleData.csv\tSimpleRegression.ipynb\n"
     ]
    }
   ],
   "source": [
    "%cd '/content/Drive/MyDrive/Colab Notebooks/MachineLearning/Models/LinearRegression/Linear Example Advanced/Simple Linear Regression'\n",
    "!ls"
   ]
  },
  {
   "cell_type": "markdown",
   "metadata": {
    "id": "bejyJVUwJ8E5"
   },
   "source": [
    "## Importing the necessary libraries\n",
    "The following libraries are imported:\n",
    "- numpy: For handling arrays efficiently.\n",
    "- pandas: For managing data in the form of a DataFrame, similar to excel.\n",
    "- matplotlib.pyplot: To make graphs.\n",
    "- statmodels: To perform the linear regression model.\n",
    "- seaborn: To style matplotlib plots.\n",
    "- tabulate: To draw tables with the data."
   ]
  },
  {
   "cell_type": "code",
   "execution_count": null,
   "metadata": {
    "colab": {
     "base_uri": "https://localhost:8080/",
     "height": 571
    },
    "executionInfo": {
     "elapsed": 1749,
     "status": "ok",
     "timestamp": 1643578740913,
     "user": {
      "displayName": "Adrian Hermoza Bayona",
      "photoUrl": "https://lh3.googleusercontent.com/a/default-user=s64",
      "userId": "18407196184190084623"
     },
     "user_tz": 300
    },
    "id": "85A54hSrJ8E7",
    "outputId": "0521eb26-f747-4824-9fff-750e62fae739"
   },
   "outputs": [
    {
     "name": "stderr",
     "output_type": "stream",
     "text": [
      "/usr/local/lib/python3.7/dist-packages/statsmodels/tools/_testing.py:19: FutureWarning: pandas.util.testing is deprecated. Use the functions in the public API at pandas.testing instead.\n",
      "  import pandas.util.testing as tm\n"
     ]
    },
    {
     "data": {
      "image/png": "[encoded data removed]",
      "text/plain": [
       "<Figure size 432x288 with 1 Axes>"
      ]
     },
     "metadata": {
      "needs_background": "light"
     },
     "output_type": "display_data"
    },
    {
     "data": {
      "image/png": "[encoded data removed]",
      "text/plain": [
       "<Figure size 432x288 with 1 Axes>"
      ]
     },
     "metadata": {},
     "output_type": "display_data"
    }
   ],
   "source": [
    "import numpy as np\n",
    "import pandas as pd\n",
    "import matplotlib.pyplot as plt\n",
    "import statsmodels.api as sm\n",
    "import seaborn as sns\n",
    "from tabulate import tabulate\n",
    "\n",
    "x = np.random.rand(50)\n",
    "y = np.random.rand(50)\n",
    "\n",
    "# Without seaborn styling\n",
    "\n",
    "plt.scatter(x, y)\n",
    "plt.show()\n",
    "\n",
    "# with the stylized\n",
    "\n",
    "sns.set()\n",
    "\n",
    "plt.scatter(x, y)\n",
    "plt.show()"
   ]
  },
  {
   "cell_type": "markdown",
   "metadata": {
    "id": "N5_8JAxqJ8E_"
   },
   "source": [
    "## Loading Data"
   ]
  },
  {
   "cell_type": "code",
   "execution_count": null,
   "metadata": {
    "id": "5VZ-ldXsJ8E_"
   },
   "outputs": [],
   "source": [
    "data = pd.read_csv('SimpleData.csv')"
   ]
  },
  {
   "cell_type": "markdown",
   "metadata": {
    "id": "ktHFe-ykworK"
   },
   "source": [
    "Something important is that when the data is automatically loaded, it is loaded in the form of a DataFrame.\n",
    "\n",
    "This DataFrame contains two main columns, which are **SAT** and **GPA**:\n",
    "- **\"SAT score\"**: Contains **\"reading comprehension\"**, **\"math\"** and **\"Writing\"**.\n",
    "- **\"GPA\"**: **Grade point average**, obtained upon completion of university."
   ]
  },
  {
   "cell_type": "code",
   "execution_count": null,
   "metadata": {
    "colab": {
     "base_uri": "https://localhost:8080/",
     "height": 441
    },
    "executionInfo": {
     "elapsed": 19,
     "status": "ok",
     "timestamp": 1643578741226,
     "user": {
      "displayName": "Adrian Hermoza Bayona",
      "photoUrl": "https://lh3.googleusercontent.com/a/default-user=s64",
      "userId": "18407196184190084623"
     },
     "user_tz": 300
    },
    "id": "3MhONbW1J8FA",
    "outputId": "d167da91-f5f8-474a-f47e-297589c89682",
    "scrolled": true
   },
   "outputs": [
    {
     "name": "stdout",
     "output_type": "stream",
     "text": [
      "<class 'pandas.core.frame.DataFrame'>\n"
     ]
    },
    {
     "data": {
      "text/html": [
       "\n",
       "  <div id=\"df-e52ce07f-c8d4-48af-9e9a-a648665b25ee\">\n",
       "    <div class=\"colab-df-container\">\n",
       "      <div>\n",
       "<style scoped>\n",
       "    .dataframe tbody tr th:only-of-type {\n",
       "        vertical-align: middle;\n",
       "    }\n",
       "\n",
       "    .dataframe tbody tr th {\n",
       "        vertical-align: top;\n",
       "    }\n",
       "\n",
       "    .dataframe thead th {\n",
       "        text-align: right;\n",
       "    }\n",
       "</style>\n",
       "<table border=\"1\" class=\"dataframe\">\n",
       "  <thead>\n",
       "    <tr style=\"text-align: right;\">\n",
       "      <th></th>\n",
       "      <th>SAT</th>\n",
       "      <th>GPA</th>\n",
       "    </tr>\n",
       "  </thead>\n",
       "  <tbody>\n",
       "    <tr>\n",
       "      <th>0</th>\n",
       "      <td>1714</td>\n",
       "      <td>2.40</td>\n",
       "    </tr>\n",
       "    <tr>\n",
       "      <th>1</th>\n",
       "      <td>1664</td>\n",
       "      <td>2.52</td>\n",
       "    </tr>\n",
       "    <tr>\n",
       "      <th>2</th>\n",
       "      <td>1760</td>\n",
       "      <td>2.54</td>\n",
       "    </tr>\n",
       "    <tr>\n",
       "      <th>3</th>\n",
       "      <td>1685</td>\n",
       "      <td>2.74</td>\n",
       "    </tr>\n",
       "    <tr>\n",
       "      <th>4</th>\n",
       "      <td>1693</td>\n",
       "      <td>2.83</td>\n",
       "    </tr>\n",
       "    <tr>\n",
       "      <th>...</th>\n",
       "      <td>...</td>\n",
       "      <td>...</td>\n",
       "    </tr>\n",
       "    <tr>\n",
       "      <th>79</th>\n",
       "      <td>1936</td>\n",
       "      <td>3.71</td>\n",
       "    </tr>\n",
       "    <tr>\n",
       "      <th>80</th>\n",
       "      <td>1810</td>\n",
       "      <td>3.71</td>\n",
       "    </tr>\n",
       "    <tr>\n",
       "      <th>81</th>\n",
       "      <td>1987</td>\n",
       "      <td>3.73</td>\n",
       "    </tr>\n",
       "    <tr>\n",
       "      <th>82</th>\n",
       "      <td>1962</td>\n",
       "      <td>3.76</td>\n",
       "    </tr>\n",
       "    <tr>\n",
       "      <th>83</th>\n",
       "      <td>2050</td>\n",
       "      <td>3.81</td>\n",
       "    </tr>\n",
       "  </tbody>\n",
       "</table>\n",
       "<p>84 rows × 2 columns</p>\n",
       "</div>\n",
       "      <button class=\"colab-df-convert\" onclick=\"convertToInteractive('df-e52ce07f-c8d4-48af-9e9a-a648665b25ee')\"\n",
       "              title=\"Convert this dataframe to an interactive table.\"\n",
       "              style=\"display:none;\">\n",
       "        \n",
       "  <svg xmlns=\"http://www.w3.org/2000/svg\" height=\"24px\"viewBox=\"0 0 24 24\"\n",
       "       width=\"24px\">\n",
       "    <path d=\"M0 0h24v24H0V0z\" fill=\"none\"/>\n",
       "    <path d=\"M18.56 5.44l.94 2.06.94-2.06 2.06-.94-2.06-.94-.94-2.06-.94 2.06-2.06.94zm-11 1L8.5 8.5l.94-2.06 2.06-.94-2.06-.94L8.5 2.5l-.94 2.06-2.06.94zm10 10l.94 2.06.94-2.06 2.06-.94-2.06-.94-.94-2.06-.94 2.06-2.06.94z\"/><path d=\"M17.41 7.96l-1.37-1.37c-.4-.4-.92-.59-1.43-.59-.52 0-1.04.2-1.43.59L10.3 9.45l-7.72 7.72c-.78.78-.78 2.05 0 2.83L4 21.41c.39.39.9.59 1.41.59.51 0 1.02-.2 1.41-.59l7.78-7.78 2.81-2.81c.8-.78.8-2.07 0-2.86zM5.41 20L4 18.59l7.72-7.72 1.47 1.35L5.41 20z\"/>\n",
       "  </svg>\n",
       "      </button>\n",
       "      \n",
       "  <style>\n",
       "    .colab-df-container {\n",
       "      display:flex;\n",
       "      flex-wrap:wrap;\n",
       "      gap: 12px;\n",
       "    }\n",
       "\n",
       "    .colab-df-convert {\n",
       "      background-color: #E8F0FE;\n",
       "      border: none;\n",
       "      border-radius: 50%;\n",
       "      cursor: pointer;\n",
       "      display: none;\n",
       "      fill: #1967D2;\n",
       "      height: 32px;\n",
       "      padding: 0 0 0 0;\n",
       "      width: 32px;\n",
       "    }\n",
       "\n",
       "    .colab-df-convert:hover {\n",
       "      background-color: #E2EBFA;\n",
       "      box-shadow: 0px 1px 2px rgba(60, 64, 67, 0.3), 0px 1px 3px 1px rgba(60, 64, 67, 0.15);\n",
       "      fill: #174EA6;\n",
       "    }\n",
       "\n",
       "    [theme=dark] .colab-df-convert {\n",
       "      background-color: #3B4455;\n",
       "      fill: #D2E3FC;\n",
       "    }\n",
       "\n",
       "    [theme=dark] .colab-df-convert:hover {\n",
       "      background-color: #434B5C;\n",
       "      box-shadow: 0px 1px 3px 1px rgba(0, 0, 0, 0.15);\n",
       "      filter: drop-shadow(0px 1px 2px rgba(0, 0, 0, 0.3));\n",
       "      fill: #FFFFFF;\n",
       "    }\n",
       "  </style>\n",
       "\n",
       "      <script>\n",
       "        const buttonEl =\n",
       "          document.querySelector('#df-e52ce07f-c8d4-48af-9e9a-a648665b25ee button.colab-df-convert');\n",
       "        buttonEl.style.display =\n",
       "          google.colab.kernel.accessAllowed ? 'block' : 'none';\n",
       "\n",
       "        async function convertToInteractive(key) {\n",
       "          const element = document.querySelector('#df-e52ce07f-c8d4-48af-9e9a-a648665b25ee');\n",
       "          const dataTable =\n",
       "            await google.colab.kernel.invokeFunction('convertToInteractive',\n",
       "                                                     [key], {});\n",
       "          if (!dataTable) return;\n",
       "\n",
       "          const docLinkHtml = 'Like what you see? Visit the ' +\n",
       "            '<a target=\"_blank\" href=https://colab.research.google.com/notebooks/data_table.ipynb>data table notebook</a>'\n",
       "            + ' to learn more about interactive tables.';\n",
       "          element.innerHTML = '';\n",
       "          dataTable['output_type'] = 'display_data';\n",
       "          await google.colab.output.renderOutput(dataTable, element);\n",
       "          const docLink = document.createElement('div');\n",
       "          docLink.innerHTML = docLinkHtml;\n",
       "          element.appendChild(docLink);\n",
       "        }\n",
       "      </script>\n",
       "    </div>\n",
       "  </div>\n",
       "  "
      ],
      "text/plain": [
       "     SAT   GPA\n",
       "0   1714  2.40\n",
       "1   1664  2.52\n",
       "2   1760  2.54\n",
       "3   1685  2.74\n",
       "4   1693  2.83\n",
       "..   ...   ...\n",
       "79  1936  3.71\n",
       "80  1810  3.71\n",
       "81  1987  3.73\n",
       "82  1962  3.76\n",
       "83  2050  3.81\n",
       "\n",
       "[84 rows x 2 columns]"
      ]
     },
     "execution_count": 11,
     "metadata": {},
     "output_type": "execute_result"
    }
   ],
   "source": [
    "print(type(data))\n",
    "data"
   ]
  },
  {
   "cell_type": "code",
   "execution_count": null,
   "metadata": {
    "colab": {
     "base_uri": "https://localhost:8080/",
     "height": 300
    },
    "executionInfo": {
     "elapsed": 14,
     "status": "ok",
     "timestamp": 1643578741227,
     "user": {
      "displayName": "Adrian Hermoza Bayona",
      "photoUrl": "https://lh3.googleusercontent.com/a/default-user=s64",
      "userId": "18407196184190084623"
     },
     "user_tz": 300
    },
    "id": "MyEVaTcDJ8FB",
    "outputId": "c179b838-64fe-4717-a2ee-67c34eba246a",
    "scrolled": true
   },
   "outputs": [
    {
     "data": {
      "text/html": [
       "\n",
       "  <div id=\"df-09cf5306-40ce-45fa-a1a1-59ab9f73671f\">\n",
       "    <div class=\"colab-df-container\">\n",
       "      <div>\n",
       "<style scoped>\n",
       "    .dataframe tbody tr th:only-of-type {\n",
       "        vertical-align: middle;\n",
       "    }\n",
       "\n",
       "    .dataframe tbody tr th {\n",
       "        vertical-align: top;\n",
       "    }\n",
       "\n",
       "    .dataframe thead th {\n",
       "        text-align: right;\n",
       "    }\n",
       "</style>\n",
       "<table border=\"1\" class=\"dataframe\">\n",
       "  <thead>\n",
       "    <tr style=\"text-align: right;\">\n",
       "      <th></th>\n",
       "      <th>SAT</th>\n",
       "      <th>GPA</th>\n",
       "    </tr>\n",
       "  </thead>\n",
       "  <tbody>\n",
       "    <tr>\n",
       "      <th>count</th>\n",
       "      <td>84.000000</td>\n",
       "      <td>84.000000</td>\n",
       "    </tr>\n",
       "    <tr>\n",
       "      <th>mean</th>\n",
       "      <td>1845.273810</td>\n",
       "      <td>3.330238</td>\n",
       "    </tr>\n",
       "    <tr>\n",
       "      <th>std</th>\n",
       "      <td>104.530661</td>\n",
       "      <td>0.271617</td>\n",
       "    </tr>\n",
       "    <tr>\n",
       "      <th>min</th>\n",
       "      <td>1634.000000</td>\n",
       "      <td>2.400000</td>\n",
       "    </tr>\n",
       "    <tr>\n",
       "      <th>25%</th>\n",
       "      <td>1772.000000</td>\n",
       "      <td>3.190000</td>\n",
       "    </tr>\n",
       "    <tr>\n",
       "      <th>50%</th>\n",
       "      <td>1846.000000</td>\n",
       "      <td>3.380000</td>\n",
       "    </tr>\n",
       "    <tr>\n",
       "      <th>75%</th>\n",
       "      <td>1934.000000</td>\n",
       "      <td>3.502500</td>\n",
       "    </tr>\n",
       "    <tr>\n",
       "      <th>max</th>\n",
       "      <td>2050.000000</td>\n",
       "      <td>3.810000</td>\n",
       "    </tr>\n",
       "  </tbody>\n",
       "</table>\n",
       "</div>\n",
       "      <button class=\"colab-df-convert\" onclick=\"convertToInteractive('df-09cf5306-40ce-45fa-a1a1-59ab9f73671f')\"\n",
       "              title=\"Convert this dataframe to an interactive table.\"\n",
       "              style=\"display:none;\">\n",
       "        \n",
       "  <svg xmlns=\"http://www.w3.org/2000/svg\" height=\"24px\"viewBox=\"0 0 24 24\"\n",
       "       width=\"24px\">\n",
       "    <path d=\"M0 0h24v24H0V0z\" fill=\"none\"/>\n",
       "    <path d=\"M18.56 5.44l.94 2.06.94-2.06 2.06-.94-2.06-.94-.94-2.06-.94 2.06-2.06.94zm-11 1L8.5 8.5l.94-2.06 2.06-.94-2.06-.94L8.5 2.5l-.94 2.06-2.06.94zm10 10l.94 2.06.94-2.06 2.06-.94-2.06-.94-.94-2.06-.94 2.06-2.06.94z\"/><path d=\"M17.41 7.96l-1.37-1.37c-.4-.4-.92-.59-1.43-.59-.52 0-1.04.2-1.43.59L10.3 9.45l-7.72 7.72c-.78.78-.78 2.05 0 2.83L4 21.41c.39.39.9.59 1.41.59.51 0 1.02-.2 1.41-.59l7.78-7.78 2.81-2.81c.8-.78.8-2.07 0-2.86zM5.41 20L4 18.59l7.72-7.72 1.47 1.35L5.41 20z\"/>\n",
       "  </svg>\n",
       "      </button>\n",
       "      \n",
       "  <style>\n",
       "    .colab-df-container {\n",
       "      display:flex;\n",
       "      flex-wrap:wrap;\n",
       "      gap: 12px;\n",
       "    }\n",
       "\n",
       "    .colab-df-convert {\n",
       "      background-color: #E8F0FE;\n",
       "      border: none;\n",
       "      border-radius: 50%;\n",
       "      cursor: pointer;\n",
       "      display: none;\n",
       "      fill: #1967D2;\n",
       "      height: 32px;\n",
       "      padding: 0 0 0 0;\n",
       "      width: 32px;\n",
       "    }\n",
       "\n",
       "    .colab-df-convert:hover {\n",
       "      background-color: #E2EBFA;\n",
       "      box-shadow: 0px 1px 2px rgba(60, 64, 67, 0.3), 0px 1px 3px 1px rgba(60, 64, 67, 0.15);\n",
       "      fill: #174EA6;\n",
       "    }\n",
       "\n",
       "    [theme=dark] .colab-df-convert {\n",
       "      background-color: #3B4455;\n",
       "      fill: #D2E3FC;\n",
       "    }\n",
       "\n",
       "    [theme=dark] .colab-df-convert:hover {\n",
       "      background-color: #434B5C;\n",
       "      box-shadow: 0px 1px 3px 1px rgba(0, 0, 0, 0.15);\n",
       "      filter: drop-shadow(0px 1px 2px rgba(0, 0, 0, 0.3));\n",
       "      fill: #FFFFFF;\n",
       "    }\n",
       "  </style>\n",
       "\n",
       "      <script>\n",
       "        const buttonEl =\n",
       "          document.querySelector('#df-09cf5306-40ce-45fa-a1a1-59ab9f73671f button.colab-df-convert');\n",
       "        buttonEl.style.display =\n",
       "          google.colab.kernel.accessAllowed ? 'block' : 'none';\n",
       "\n",
       "        async function convertToInteractive(key) {\n",
       "          const element = document.querySelector('#df-09cf5306-40ce-45fa-a1a1-59ab9f73671f');\n",
       "          const dataTable =\n",
       "            await google.colab.kernel.invokeFunction('convertToInteractive',\n",
       "                                                     [key], {});\n",
       "          if (!dataTable) return;\n",
       "\n",
       "          const docLinkHtml = 'Like what you see? Visit the ' +\n",
       "            '<a target=\"_blank\" href=https://colab.research.google.com/notebooks/data_table.ipynb>data table notebook</a>'\n",
       "            + ' to learn more about interactive tables.';\n",
       "          element.innerHTML = '';\n",
       "          dataTable['output_type'] = 'display_data';\n",
       "          await google.colab.output.renderOutput(dataTable, element);\n",
       "          const docLink = document.createElement('div');\n",
       "          docLink.innerHTML = docLinkHtml;\n",
       "          element.appendChild(docLink);\n",
       "        }\n",
       "      </script>\n",
       "    </div>\n",
       "  </div>\n",
       "  "
      ],
      "text/plain": [
       "               SAT        GPA\n",
       "count    84.000000  84.000000\n",
       "mean   1845.273810   3.330238\n",
       "std     104.530661   0.271617\n",
       "min    1634.000000   2.400000\n",
       "25%    1772.000000   3.190000\n",
       "50%    1846.000000   3.380000\n",
       "75%    1934.000000   3.502500\n",
       "max    2050.000000   3.810000"
      ]
     },
     "execution_count": 12,
     "metadata": {},
     "output_type": "execute_result"
    }
   ],
   "source": [
    "data.describe()"
   ]
  },
  {
   "cell_type": "markdown",
   "metadata": {
    "id": "mh_7iUcHJ8FD"
   },
   "source": [
    "# Creating the regression"
   ]
  },
  {
   "cell_type": "markdown",
   "metadata": {
    "id": "bNSWT-Z3J8FE"
   },
   "source": [
    "## Defining the dependent and independent variable\n",
    "Since one **(SAT)** is the score in critical areas and the other**(GPA)** is the score at the end of college, it makes sense that there is a relationship between the two, so we define **GPA** as the dependent variable and **SAT** as the independent variable."
   ]
  },
  {
   "cell_type": "code",
   "execution_count": null,
   "metadata": {
    "id": "aDyYSpx2J8FG"
   },
   "outputs": [],
   "source": [
    "y = data ['GPA']\n",
    "x1 = data ['SAT']"
   ]
  },
  {
   "cell_type": "markdown",
   "metadata": {
    "id": "qRmMZz1rJ8FH"
   },
   "source": [
    "## Exploring the data\n",
    "We can see the relationship between both variables in a scatter plot and we can also get an idea of the relationship with a correlation and a heat map."
   ]
  },
  {
   "cell_type": "code",
   "execution_count": null,
   "metadata": {
    "colab": {
     "base_uri": "https://localhost:8080/",
     "height": 291
    },
    "executionInfo": {
     "elapsed": 322,
     "status": "ok",
     "timestamp": 1643578741538,
     "user": {
      "displayName": "Adrian Hermoza Bayona",
      "photoUrl": "https://lh3.googleusercontent.com/a/default-user=s64",
      "userId": "18407196184190084623"
     },
     "user_tz": 300
    },
    "id": "c31IpF7MJ8FI",
    "outputId": "a59da7cd-8f32-46c8-9d04-7da12277010a"
   },
   "outputs": [
    {
     "data": {
      "image/png": "[encoded data removed]",
      "text/plain": [
       "<Figure size 432x288 with 1 Axes>"
      ]
     },
     "metadata": {},
     "output_type": "display_data"
    }
   ],
   "source": [
    "plt.scatter(x1,y)\n",
    "plt.xlabel('SAT', fontsize = 20)\n",
    "plt.ylabel('GPA', fontsize = 20)\n",
    "plt.show()"
   ]
  },
  {
   "cell_type": "code",
   "execution_count": null,
   "metadata": {
    "colab": {
     "base_uri": "https://localhost:8080/",
     "height": 112
    },
    "executionInfo": {
     "elapsed": 17,
     "status": "ok",
     "timestamp": 1643578741540,
     "user": {
      "displayName": "Adrian Hermoza Bayona",
      "photoUrl": "https://lh3.googleusercontent.com/a/default-user=s64",
      "userId": "18407196184190084623"
     },
     "user_tz": 300
    },
    "id": "7HZFVyst1mJu",
    "outputId": "10627bc8-e9de-4041-e332-8b25948262ef"
   },
   "outputs": [
    {
     "data": {
      "text/html": [
       "\n",
       "  <div id=\"df-724ddbf4-a032-4d60-aadc-8afb3fee8f10\">\n",
       "    <div class=\"colab-df-container\">\n",
       "      <div>\n",
       "<style scoped>\n",
       "    .dataframe tbody tr th:only-of-type {\n",
       "        vertical-align: middle;\n",
       "    }\n",
       "\n",
       "    .dataframe tbody tr th {\n",
       "        vertical-align: top;\n",
       "    }\n",
       "\n",
       "    .dataframe thead th {\n",
       "        text-align: right;\n",
       "    }\n",
       "</style>\n",
       "<table border=\"1\" class=\"dataframe\">\n",
       "  <thead>\n",
       "    <tr style=\"text-align: right;\">\n",
       "      <th></th>\n",
       "      <th>SAT</th>\n",
       "      <th>GPA</th>\n",
       "    </tr>\n",
       "  </thead>\n",
       "  <tbody>\n",
       "    <tr>\n",
       "      <th>SAT</th>\n",
       "      <td>1.000000</td>\n",
       "      <td>0.637184</td>\n",
       "    </tr>\n",
       "    <tr>\n",
       "      <th>GPA</th>\n",
       "      <td>0.637184</td>\n",
       "      <td>1.000000</td>\n",
       "    </tr>\n",
       "  </tbody>\n",
       "</table>\n",
       "</div>\n",
       "      <button class=\"colab-df-convert\" onclick=\"convertToInteractive('df-724ddbf4-a032-4d60-aadc-8afb3fee8f10')\"\n",
       "              title=\"Convert this dataframe to an interactive table.\"\n",
       "              style=\"display:none;\">\n",
       "        \n",
       "  <svg xmlns=\"http://www.w3.org/2000/svg\" height=\"24px\"viewBox=\"0 0 24 24\"\n",
       "       width=\"24px\">\n",
       "    <path d=\"M0 0h24v24H0V0z\" fill=\"none\"/>\n",
       "    <path d=\"M18.56 5.44l.94 2.06.94-2.06 2.06-.94-2.06-.94-.94-2.06-.94 2.06-2.06.94zm-11 1L8.5 8.5l.94-2.06 2.06-.94-2.06-.94L8.5 2.5l-.94 2.06-2.06.94zm10 10l.94 2.06.94-2.06 2.06-.94-2.06-.94-.94-2.06-.94 2.06-2.06.94z\"/><path d=\"M17.41 7.96l-1.37-1.37c-.4-.4-.92-.59-1.43-.59-.52 0-1.04.2-1.43.59L10.3 9.45l-7.72 7.72c-.78.78-.78 2.05 0 2.83L4 21.41c.39.39.9.59 1.41.59.51 0 1.02-.2 1.41-.59l7.78-7.78 2.81-2.81c.8-.78.8-2.07 0-2.86zM5.41 20L4 18.59l7.72-7.72 1.47 1.35L5.41 20z\"/>\n",
       "  </svg>\n",
       "      </button>\n",
       "      \n",
       "  <style>\n",
       "    .colab-df-container {\n",
       "      display:flex;\n",
       "      flex-wrap:wrap;\n",
       "      gap: 12px;\n",
       "    }\n",
       "\n",
       "    .colab-df-convert {\n",
       "      background-color: #E8F0FE;\n",
       "      border: none;\n",
       "      border-radius: 50%;\n",
       "      cursor: pointer;\n",
       "      display: none;\n",
       "      fill: #1967D2;\n",
       "      height: 32px;\n",
       "      padding: 0 0 0 0;\n",
       "      width: 32px;\n",
       "    }\n",
       "\n",
       "    .colab-df-convert:hover {\n",
       "      background-color: #E2EBFA;\n",
       "      box-shadow: 0px 1px 2px rgba(60, 64, 67, 0.3), 0px 1px 3px 1px rgba(60, 64, 67, 0.15);\n",
       "      fill: #174EA6;\n",
       "    }\n",
       "\n",
       "    [theme=dark] .colab-df-convert {\n",
       "      background-color: #3B4455;\n",
       "      fill: #D2E3FC;\n",
       "    }\n",
       "\n",
       "    [theme=dark] .colab-df-convert:hover {\n",
       "      background-color: #434B5C;\n",
       "      box-shadow: 0px 1px 3px 1px rgba(0, 0, 0, 0.15);\n",
       "      filter: drop-shadow(0px 1px 2px rgba(0, 0, 0, 0.3));\n",
       "      fill: #FFFFFF;\n",
       "    }\n",
       "  </style>\n",
       "\n",
       "      <script>\n",
       "        const buttonEl =\n",
       "          document.querySelector('#df-724ddbf4-a032-4d60-aadc-8afb3fee8f10 button.colab-df-convert');\n",
       "        buttonEl.style.display =\n",
       "          google.colab.kernel.accessAllowed ? 'block' : 'none';\n",
       "\n",
       "        async function convertToInteractive(key) {\n",
       "          const element = document.querySelector('#df-724ddbf4-a032-4d60-aadc-8afb3fee8f10');\n",
       "          const dataTable =\n",
       "            await google.colab.kernel.invokeFunction('convertToInteractive',\n",
       "                                                     [key], {});\n",
       "          if (!dataTable) return;\n",
       "\n",
       "          const docLinkHtml = 'Like what you see? Visit the ' +\n",
       "            '<a target=\"_blank\" href=https://colab.research.google.com/notebooks/data_table.ipynb>data table notebook</a>'\n",
       "            + ' to learn more about interactive tables.';\n",
       "          element.innerHTML = '';\n",
       "          dataTable['output_type'] = 'display_data';\n",
       "          await google.colab.output.renderOutput(dataTable, element);\n",
       "          const docLink = document.createElement('div');\n",
       "          docLink.innerHTML = docLinkHtml;\n",
       "          element.appendChild(docLink);\n",
       "        }\n",
       "      </script>\n",
       "    </div>\n",
       "  </div>\n",
       "  "
      ],
      "text/plain": [
       "          SAT       GPA\n",
       "SAT  1.000000  0.637184\n",
       "GPA  0.637184  1.000000"
      ]
     },
     "execution_count": 15,
     "metadata": {},
     "output_type": "execute_result"
    }
   ],
   "source": [
    "data.corr()"
   ]
  },
  {
   "cell_type": "code",
   "execution_count": null,
   "metadata": {
    "colab": {
     "base_uri": "https://localhost:8080/",
     "height": 272
    },
    "executionInfo": {
     "elapsed": 458,
     "status": "ok",
     "timestamp": 1643578741984,
     "user": {
      "displayName": "Adrian Hermoza Bayona",
      "photoUrl": "https://lh3.googleusercontent.com/a/default-user=s64",
      "userId": "18407196184190084623"
     },
     "user_tz": 300
    },
    "id": "_TEwQajM1pfq",
    "outputId": "1245ad20-993c-46c5-f914-6089161b4144"
   },
   "outputs": [
    {
     "data": {
      "image/png": "[encoded data removed]",
      "text/plain": [
       "<Figure size 432x288 with 2 Axes>"
      ]
     },
     "metadata": {},
     "output_type": "display_data"
    }
   ],
   "source": [
    "sns.heatmap(data.corr())\n",
    "plt.show()"
   ]
  },
  {
   "cell_type": "markdown",
   "metadata": {
    "id": "xHxL1LE216LT"
   },
   "source": [
    "A relationship of **0.637184** is close to 1, which means that there is a relationship between both variables, although according to the correlation it is not very strong."
   ]
  },
  {
   "cell_type": "markdown",
   "metadata": {
    "id": "RvDvwU3cJ8FJ"
   },
   "source": [
    "## Regression - statsmodels\n",
    "There are several libraries in python to be able to implement a linear regression, in this case the **\"statmodels\"** package will be used.\n"
   ]
  },
  {
   "cell_type": "code",
   "execution_count": null,
   "metadata": {
    "colab": {
     "base_uri": "https://localhost:8080/"
    },
    "executionInfo": {
     "elapsed": 27,
     "status": "ok",
     "timestamp": 1643578741986,
     "user": {
      "displayName": "Adrian Hermoza Bayona",
      "photoUrl": "https://lh3.googleusercontent.com/a/default-user=s64",
      "userId": "18407196184190084623"
     },
     "user_tz": 300
    },
    "id": "APNyjrwj4jek",
    "outputId": "931abb24-fdd5-4839-b553-41f3a0595c2c"
   },
   "outputs": [
    {
     "name": "stdout",
     "output_type": "stream",
     "text": [
      "0     1714\n",
      "1     1664\n",
      "2     1760\n",
      "3     1685\n",
      "4     1693\n",
      "      ... \n",
      "79    1936\n",
      "80    1810\n",
      "81    1987\n",
      "82    1962\n",
      "83    2050\n",
      "Name: SAT, Length: 84, dtype: int64\n"
     ]
    }
   ],
   "source": [
    "# We are going to review the independent variable, to carry out the regression model with it.\n",
    "print(x1)"
   ]
  },
  {
   "cell_type": "code",
   "execution_count": null,
   "metadata": {
    "colab": {
     "base_uri": "https://localhost:8080/"
    },
    "executionInfo": {
     "elapsed": 23,
     "status": "ok",
     "timestamp": 1643578741987,
     "user": {
      "displayName": "Adrian Hermoza Bayona",
      "photoUrl": "https://lh3.googleusercontent.com/a/default-user=s64",
      "userId": "18407196184190084623"
     },
     "user_tz": 300
    },
    "id": "zhG1j3ytJ8FJ",
    "outputId": "a6d30761-79f9-4100-a731-8ed1eeb1660d",
    "scrolled": false
   },
   "outputs": [
    {
     "name": "stdout",
     "output_type": "stream",
     "text": [
      "                                 OLS Regression Results                                \n",
      "=======================================================================================\n",
      "Dep. Variable:                    GPA   R-squared (uncentered):                   0.996\n",
      "Model:                            OLS   Adj. R-squared (uncentered):              0.996\n",
      "Method:                 Least Squares   F-statistic:                          2.120e+04\n",
      "Date:                Sun, 30 Jan 2022   Prob (F-statistic):                   9.38e-102\n",
      "Time:                        21:39:01   Log-Likelihood:                          12.440\n",
      "No. Observations:                  84   AIC:                                     -22.88\n",
      "Df Residuals:                      83   BIC:                                     -20.45\n",
      "Df Model:                           1                                                  \n",
      "Covariance Type:            nonrobust                                                  \n",
      "==============================================================================\n",
      "                 coef    std err          t      P>|t|      [0.025      0.975]\n",
      "------------------------------------------------------------------------------\n",
      "SAT            0.0018   1.24e-05    145.594      0.000       0.002       0.002\n",
      "==============================================================================\n",
      "Omnibus:                        9.848   Durbin-Watson:                   1.116\n",
      "Prob(Omnibus):                  0.007   Jarque-Bera (JB):               11.422\n",
      "Skew:                          -0.594   Prob(JB):                      0.00331\n",
      "Kurtosis:                       4.361   Cond. No.                         1.00\n",
      "==============================================================================\n",
      "\n",
      "Warnings:\n",
      "[1] Standard Errors assume that the covariance matrix of the errors is correctly specified.\n"
     ]
    }
   ],
   "source": [
    "# This is the first example of linear regression, which within the statmodels package is misused.\n",
    "# So this example is wrong\n",
    "\n",
    "results = sm.OLS(y,x1).fit()\n",
    "print(results.summary())"
   ]
  },
  {
   "cell_type": "markdown",
   "metadata": {
    "id": "1gpvdRtt60FI"
   },
   "source": [
    "When using the **statmodels** package, it is necessary to add a constant for computational reasons. Thus, the example carried out correctly is the following."
   ]
  },
  {
   "cell_type": "code",
   "execution_count": 1,
   "metadata": {
    "colab": {
     "base_uri": "https://localhost:8080/"
    },
    "executionInfo": {
     "elapsed": 21,
     "status": "ok",
     "timestamp": 1643578741988,
     "user": {
      "displayName": "Adrian Hermoza Bayona",
      "photoUrl": "https://lh3.googleusercontent.com/a/default-user=s64",
      "userId": "18407196184190084623"
     },
     "user_tz": 300
    },
    "id": "jqJhk2iW6fL4",
    "outputId": "ac04c56d-7ce5-43ad-e2be-ae8085f735c0"
   },
   "outputs": [
    {
     "ename": "NameError",
     "evalue": "name 'sm' is not defined",
     "output_type": "error",
     "traceback": [
      "\u001b[1;31m---------------------------------------------------------------------------\u001b[0m",
      "\u001b[1;31mNameError\u001b[0m                                 Traceback (most recent call last)",
      "\u001b[1;32m~\\AppData\\Local\\Temp\\ipykernel_43344\\1330600743.py\u001b[0m in \u001b[0;36m<module>\u001b[1;34m\u001b[0m\n\u001b[0;32m      1\u001b[0m \u001b[1;31m# The add_constant function is used to be able to do the regression correctly\u001b[0m\u001b[1;33m\u001b[0m\u001b[1;33m\u001b[0m\u001b[0m\n\u001b[1;32m----> 2\u001b[1;33m \u001b[0mx\u001b[0m \u001b[1;33m=\u001b[0m \u001b[0msm\u001b[0m\u001b[1;33m.\u001b[0m\u001b[0madd_constant\u001b[0m\u001b[1;33m(\u001b[0m\u001b[0mx1\u001b[0m\u001b[1;33m)\u001b[0m\u001b[1;33m\u001b[0m\u001b[1;33m\u001b[0m\u001b[0m\n\u001b[0m\u001b[0;32m      3\u001b[0m \u001b[0mprint\u001b[0m\u001b[1;33m(\u001b[0m\u001b[0mx\u001b[0m\u001b[1;33m)\u001b[0m\u001b[1;33m\u001b[0m\u001b[1;33m\u001b[0m\u001b[0m\n",
      "\u001b[1;31mNameError\u001b[0m: name 'sm' is not defined"
     ]
    }
   ],
   "source": [
    "# The add_constant function is used to be able to do the regression correctly\n",
    "x = sm.add_constant(x1)\n",
    "print(x)"
   ]
  },
  {
   "cell_type": "markdown",
   "metadata": {
    "id": "5dhYMJB273an"
   },
   "source": [
    "At this point it is very necessary to review the statistics, which are very different from those of the previous example, in addition to the fact that this time there is an intercept, which is in the **const**."
   ]
  },
  {
   "cell_type": "code",
   "execution_count": null,
   "metadata": {
    "colab": {
     "base_uri": "https://localhost:8080/"
    },
    "executionInfo": {
     "elapsed": 18,
     "status": "ok",
     "timestamp": 1643578741989,
     "user": {
      "displayName": "Adrian Hermoza Bayona",
      "photoUrl": "https://lh3.googleusercontent.com/a/default-user=s64",
      "userId": "18407196184190084623"
     },
     "user_tz": 300
    },
    "id": "xxMjbhTo7tDI",
    "outputId": "204dc24e-6987-48c9-ea4e-65d8354dc699"
   },
   "outputs": [
    {
     "name": "stdout",
     "output_type": "stream",
     "text": [
      "                            OLS Regression Results                            \n",
      "==============================================================================\n",
      "Dep. Variable:                    GPA   R-squared:                       0.406\n",
      "Model:                            OLS   Adj. R-squared:                  0.399\n",
      "Method:                 Least Squares   F-statistic:                     56.05\n",
      "Date:                Sun, 30 Jan 2022   Prob (F-statistic):           7.20e-11\n",
      "Time:                        21:39:01   Log-Likelihood:                 12.672\n",
      "No. Observations:                  84   AIC:                            -21.34\n",
      "Df Residuals:                      82   BIC:                            -16.48\n",
      "Df Model:                           1                                         \n",
      "Covariance Type:            nonrobust                                         \n",
      "==============================================================================\n",
      "                 coef    std err          t      P>|t|      [0.025      0.975]\n",
      "------------------------------------------------------------------------------\n",
      "const          0.2750      0.409      0.673      0.503      -0.538       1.088\n",
      "SAT            0.0017      0.000      7.487      0.000       0.001       0.002\n",
      "==============================================================================\n",
      "Omnibus:                       12.839   Durbin-Watson:                   0.950\n",
      "Prob(Omnibus):                  0.002   Jarque-Bera (JB):               16.155\n",
      "Skew:                          -0.722   Prob(JB):                     0.000310\n",
      "Kurtosis:                       4.590   Cond. No.                     3.29e+04\n",
      "==============================================================================\n",
      "\n",
      "Warnings:\n",
      "[1] Standard Errors assume that the covariance matrix of the errors is correctly specified.\n",
      "[2] The condition number is large, 3.29e+04. This might indicate that there are\n",
      "strong multicollinearity or other numerical problems.\n"
     ]
    }
   ],
   "source": [
    "results = sm.OLS(y,x).fit()\n",
    "print(results.summary())"
   ]
  },
  {
   "cell_type": "markdown",
   "metadata": {
    "id": "E-_vsI1B8wQP"
   },
   "source": [
    "## graphing\n",
    "Linear regression has a linear representation which is given by the line formula: $$y=intercept + x(coef)$$\n",
    "In this way it would be: $$y = 0.275 + x1(0.0017)$$"
   ]
  },
  {
   "cell_type": "code",
   "execution_count": null,
   "metadata": {
    "colab": {
     "base_uri": "https://localhost:8080/",
     "height": 291
    },
    "executionInfo": {
     "elapsed": 557,
     "status": "ok",
     "timestamp": 1643578742531,
     "user": {
      "displayName": "Adrian Hermoza Bayona",
      "photoUrl": "https://lh3.googleusercontent.com/a/default-user=s64",
      "userId": "18407196184190084623"
     },
     "user_tz": 300
    },
    "id": "MQFhvYJPJ8FK",
    "outputId": "48ee9214-9ed5-4352-9b9d-11650417c3e1"
   },
   "outputs": [
    {
     "data": {
      "image/png": "[encoded data removed]",
      "text/plain": [
       "<Figure size 432x288 with 1 Axes>"
      ]
     },
     "metadata": {},
     "output_type": "display_data"
    }
   ],
   "source": [
    "# Plot scatterplot\n",
    "plt.scatter(x1,y)\n",
    "# Store the formula of the line into a variable\n",
    "yhat = 0.275 + 0.0017*x1\n",
    "# Graph the line\n",
    "fig = plt.plot(x1,yhat, lw=4, c='orange', label ='regression line')\n",
    "# Label X,Y\n",
    "plt.xlabel('SAT', fontsize = 20)\n",
    "plt.ylabel('GPA', fontsize = 20)\n",
    "# show the graph\n",
    "plt.show()"
   ]
  },
  {
   "cell_type": "markdown",
   "metadata": {
    "id": "dLsMwiZv_kAk"
   },
   "source": [
    "# Comparison between statmodels and sklearn\n",
    "**Sklearn** is one of the most used packages for machine learning, so it is necessary to compare the answers obtained with the **statmodels** package to see if they are the same."
   ]
  },
  {
   "cell_type": "code",
   "execution_count": null,
   "metadata": {
    "colab": {
     "base_uri": "https://localhost:8080/"
    },
    "executionInfo": {
     "elapsed": 349,
     "status": "ok",
     "timestamp": 1643578742868,
     "user": {
      "displayName": "Adrian Hermoza Bayona",
      "photoUrl": "https://lh3.googleusercontent.com/a/default-user=s64",
      "userId": "18407196184190084623"
     },
     "user_tz": 300
    },
    "id": "sMGhtLgEJ8FN",
    "outputId": "ef287e29-30ef-43cc-d958-d3c0774c5458"
   },
   "outputs": [
    {
     "name": "stdout",
     "output_type": "stream",
     "text": [
      "╒═════════════╤════════════╤══════════════╤══════════════╤════════╤═════════════╕\n",
      "│             │   SAT-coef │   intercepto │   r-cuadrado │      f │           p │\n",
      "╞═════════════╪════════════╪══════════════╪══════════════╪════════╪═════════════╡\n",
      "│ Estaditicos │ 0.00165569 │      0.27504 │     0.406004 │ 56.048 │ 7.19952e-11 │\n",
      "╘═════════════╧════════════╧══════════════╧══════════════╧════════╧═════════════╛\n"
     ]
    }
   ],
   "source": [
    "from sklearn.linear_model import LinearRegression\n",
    "from sklearn.feature_selection import f_regression\n",
    "\n",
    "lin = LinearRegression()\n",
    "reg = lin.fit(data[['SAT']], data['GPA'])\n",
    "r = lin.score(data[['SAT']], data['GPA'])\n",
    "f, p = f_regression(data[['SAT']], data['GPA'])\n",
    "# To give better order it is put inside a dictionary.\n",
    "# The coef_ attribute returns a list so that, being a simple regression, only the first element is chosen.\n",
    "# All are placed in list form to facilitate the use of tabulate.\n",
    "skStats = {'SAT-coef': [reg.coef_[0]], 'intercepto': [reg.intercept_], 'r-cuadrado': [r], 'f': [f], 'p':[p]}\n",
    "# Plot the statistics in a table with the tabulate package\n",
    "print(tabulate(skStats, tablefmt='fancy_grid', headers=skStats.keys(), showindex=['Estaditicos']))"
   ]
  },
  {
   "cell_type": "markdown",
   "metadata": {
    "id": "BEs_RHy5BNAT"
   },
   "source": [
    "## Comparison\n",
    "First you have to observe the result obtained with the package **\"statmodels\"**\n",
    "\n",
    "```\n",
    "  OLS Regression Results\n",
    "==================================================== ============================\n",
    "Dept. Variable: GPA R-squared: 0.406\n",
    "Model: OLS Adj. R-squared: 0.399\n",
    "Method: Least Squares F-statistic: 56.05\n",
    "Date: Sun, 23 Jan 2022 Prob (F-statistic): 7.20e-11\n",
    "Time: 17:50:44 Log-Likelihood: 12,672\n",
    "No. Observations: 84 AIC: -21.34\n",
    "Df Residuals: 82 BIC: -16.48\n",
    "DfModel: 1\n",
    "Covariance Type: nonrobust\n",
    "==================================================== ============================\n",
    "                  coef std err t P>|t| [0.025 0.975]\n",
    "-------------------------------------------------- ----------------------------\n",
    "const 0.2750 0.409 0.673 0.503 -0.538 1.088\n",
    "SAT 0.0017 0.000 7.487 0.000 0.001 0.002\n",
    "==================================================== ============================\n",
    "Bus: 12,839 Durbin-Watson: 0,950\n",
    "Prob(Omnibus): 0.002 Jarque-Bera (JB): 16.155\n",
    "Skew: -0.722 Prob(JB): 0.000310\n",
    "Kurtosis: 4,590 Cond. No. 3.29e+04\n",
    "==================================================== ============================\n",
    "\n",
    "Warnings:\n",
    "[1] Standard Errors assume that the covariance matrix of the errors is correctly specified.\n",
    "[2] The condition number is large, 3.29e+04. This might indicate that there are\n",
    "strong multicollinearity or other numerical problems.\n",
    "\n",
    "```\n",
    "\n",
    "There are 5 main statistics to review:\n",
    "- The intercept: 0.2750\n",
    "- The coefficient of **SAT**: 0.0017\n",
    "- R²: 0.406\n",
    "- F: 56.05\n",
    "- F(p): 7.20e-11\n",
    "\n",
    "Now with sklearn:\n",
    "```\n",
    "╒‖ATAs........ explain ═══════╤════════╤═════════════╕\n",
    "│ │ SAT-coef │ intercept │ r-squared │ f │ p │\n",
    "╞‖ATAs........ explain ═══════╪════════╪═════════════╡\n",
    "│ Statistics │ 0.00165569 │ 0.27504 │ 0.406004 │ 56.048 │ 7.19952e-11 │\n",
    "╘‖ATAs........ explain ═══════╧════════╧═════════════╛\n",
    "```\n",
    "- The intercept: 0.2750402996602799\n",
    "- The coefficient of **SAT**: 0.00165569\n",
    "- R²: 0.40600391479679754\n",
    "- F: 56.048\n",
    "-F(p): 7.19952e-11\n",
    "\n",
    "The only differences are that statmodels generates simplified statistics, rounding decimal places, which makes it more readable but less accurate than sklearn."
   ]
  },
  {
   "cell_type": "markdown",
   "metadata": {
    "id": "vlXV_IBOGv-D"
   },
   "source": [
    "# Understanding the statistics\n",
    "The **statmodels** library gives us a large number of statistics, which must be looked at very carefully because they reveal many important things on top of the statistics seen above."
   ]
  },
  {
   "cell_type": "markdown",
   "metadata": {
    "id": "UwY3y6M3HIR7"
   },
   "source": [
    "## Intercept\n",
    "\n",
    "```\n",
    "==================================================== ============================\n",
    "                  coef\n",
    "-------------------------------------------------- ----------------------------\n",
    "const 0.2750\n",
    "```\n",
    "Before seen the formula of the straight line has the following form:\n",
    "$$y = intercept + x(coefficient)$$\n",
    "So that the intercept is the point from where the line starts, in the following example you see an **intercept** of 5, because that is where the line begins."
   ]
  },
  {
   "cell_type": "code",
   "execution_count": null,
   "metadata": {
    "colab": {
     "base_uri": "https://localhost:8080/",
     "height": 268
    },
    "executionInfo": {
     "elapsed": 10,
     "status": "ok",
     "timestamp": 1643578742869,
     "user": {
      "displayName": "Adrian Hermoza Bayona",
      "photoUrl": "https://lh3.googleusercontent.com/a/default-user=s64",
      "userId": "18407196184190084623"
     },
     "user_tz": 300
    },
    "id": "6QUHSEtPNgjf",
    "outputId": "cb085eac-5508-4ac7-df04-f5687067ba08"
   },
   "outputs": [
    {
     "data": {
      "image/png": "[encoded data removed]",
      "text/plain": [
       "<Figure size 432x288 with 1 Axes>"
      ]
     },
     "metadata": {},
     "output_type": "display_data"
    }
   ],
   "source": [
    "xInt = np.arange(5, 20)\n",
    "yInt = np.arange(5, 20)\n",
    "\n",
    "plt.plot(xInt, yInt)\n",
    "plt.ylim(0)\n",
    "plt.xlim(0)\n",
    "plt.show()"
   ]
  },
  {
   "cell_type": "markdown",
   "metadata": {
    "id": "d_-UFOQZOOcn"
   },
   "source": [
    "## Coefficient\n",
    "\n",
    "The coefficient or coefficients, depending on whether the regression is simple (a single coefficient) or compound (many coefficients), are the amount that increases by **y** for each number that increases by **x**, thus the coefficient is better known as the slope.\n",
    "\n",
    "```\n",
    "==================================================== ============================\n",
    "                  coef\n",
    "-------------------------------------------------- ----------------------------\n",
    "SAT 0.0017\n",
    "==================================================== ============================\n",
    "```\n",
    "Let's imagine that we have a product that sells for two units for every dollar invested in advertising, according to the example:\n",
    "$$pending = 2$$\n",
    "$$intercept = 0$$"
   ]
  },
  {
   "cell_type": "code",
   "execution_count": null,
   "metadata": {
    "colab": {
     "base_uri": "https://localhost:8080/",
     "height": 268
    },
    "executionInfo": {
     "elapsed": 404,
     "status": "ok",
     "timestamp": 1643578743266,
     "user": {
      "displayName": "Adrian Hermoza Bayona",
      "photoUrl": "https://lh3.googleusercontent.com/a/default-user=s64",
      "userId": "18407196184190084623"
     },
     "user_tz": 300
    },
    "id": "Hx7dJiJFPUhL",
    "outputId": "bcc88dbf-98f6-48b2-adc7-0b3c343fa035"
   },
   "outputs": [
    {
     "data": {
      "image/png": "[encoded data removed]",
      "text/plain": [
       "<Figure size 432x288 with 1 Axes>"
      ]
     },
     "metadata": {},
     "output_type": "display_data"
    }
   ],
   "source": [
    "yCoef = np.arange(0, 15, 2)\n",
    "xCoef = np.arange(0, 8, 1)\n",
    "plt.plot(xCoef, yCoef)\n",
    "plt.show()"
   ]
  },
  {
   "cell_type": "markdown",
   "metadata": {
    "id": "w6PiGITpxFkS"
   },
   "source": [
    "## R squared\n",
    "R squared is one of the most used indices to determine accuracy and linearity, its precision is measured from 0 to 1.\n",
    "\n",
    "```\n",
    "|\n",
    "|\n",
    "|\n",
    "|___________________\n",
    "|\n",
    "|\n",
    "|___________________\n",
    "```\n",
    "In this case there is a horizontal line, here there is no relationship, so surely **r squared** will be 0, in any other case its value will oscillate between 0 and 1, one way to obtain a horizontal line is through the mean"
   ]
  },
  {
   "cell_type": "code",
   "execution_count": null,
   "metadata": {
    "colab": {
     "base_uri": "https://localhost:8080/",
     "height": 268
    },
    "executionInfo": {
     "elapsed": 415,
     "status": "ok",
     "timestamp": 1643578743673,
     "user": {
      "displayName": "Adrian Hermoza Bayona",
      "photoUrl": "https://lh3.googleusercontent.com/a/default-user=s64",
      "userId": "18407196184190084623"
     },
     "user_tz": 300
    },
    "id": "dGXD4jgG2sVf",
    "outputId": "708284c9-bb4b-46cb-acef-1300922df9ce"
   },
   "outputs": [
    {
     "data": {
      "image/png": "[encoded data removed]",
      "text/plain": [
       "<Figure size 432x288 with 1 Axes>"
      ]
     },
     "metadata": {},
     "output_type": "display_data"
    }
   ],
   "source": [
    "xr = np.random.rand(50)\n",
    "yr = np.random.rand(50)\n",
    "datar = np.append(xr, yr)\n",
    "meanr = np.mean(datar)\n",
    "plt.scatter(xr, yr)\n",
    "plt.axhline(meanr, color='red', linestyle='--')\n",
    "plt.show()"
   ]
  },
  {
   "cell_type": "markdown",
   "metadata": {
    "id": "0K9QOCVE38c2"
   },
   "source": [
    "Here there is a horizontal line that indicates that there is no relationship, in this way to obtain **r squared** the following formula is used:\n",
    "\n",
    "$$r^2=\\frac{var(mean)-var(fit)}{var(mean)}$$\n",
    "\n",
    "- var(mean) represents the variance of the data with respect to the mean.\n",
    "\n",
    "$$var(mean) = \\frac{\\sum{(data-mean)^2}}{n}$$\n",
    "\n",
    "$$n = \\text{number of data items}$$\n",
    "\n",
    "- var(fit) represents the variance of the data with respect to the line made, through its value in the line of the linear regression.\n",
    "\n",
    "$$var(fit)=\\frac{\\sum{(data-line)^2}}{n}$$\n",
    "\n",
    "$$n = \\text{number of data items}$$\n",
    "\n",
    "In this way, if the variance with respect to the line is very large, assimilating the line of the mean:\n",
    "\n",
    "$$r^2 = 0$$\n",
    "\n",
    "But if it is very small assimilating to the regression line:\n",
    "\n",
    "$$r^2 = 1$$\n",
    "\n",
    "```\n",
    "  OLS Regression Results\n",
    "==================================================== ============================\n",
    "R-squared: 0.406\n",
    "==================================================== ============================\n",
    "```\n",
    "\n",
    "The value of the image shows that with our model we can explain little more than 40% of the results."
   ]
  },
  {
   "cell_type": "markdown",
   "metadata": {
    "id": "UJ-4SyPA-6ob"
   },
   "source": [
    "## F-statistic\n",
    "The **F** statistic is used to know if the model works, this statistic works using **p** values, in the graph the **p** value is given by **Prob (F-statistic)* *\n",
    "\n",
    "```\n",
    "==================================================== ============================\n",
    "R-squared: 0.406\n",
    "F-statistic: 56.05\n",
    "Prob (F-statistic): 7.20e-11\n",
    "==================================================== ============================\n",
    "```\n",
    "In order to understand these **p** values, it is necessary to understand the existence of the alternate hypothesis and the null hypothesis, which in this case are already predefined:\n",
    "- **H0**: The model performs the same way without independent variables as with them, in other words the independent variables are not necessary and the intercept is the only thing that really matters.\n",
    "- **H1**: The model performs better with the independent variables since only the intercept is not enough.\n",
    "\n",
    "According to the example we have that **Prob (F-statistic) = 7.20e-11** we must remember that this is the same as **P = 7.20e-11**, this is easier to understand from the following way:\n",
    "\n",
    "```\n",
    "print(format(7.19952e-11, '.17f'))\n",
    "0.00000000007199520\n",
    "```\n",
    "Since this is much less than 0.05, it is possible to **accept the alternative hypothesis (H1)** and define that the model performs better using the independent variable **SAT**.\n",
    "\n",
    "To better understand this concept it is good to review this [video](https://youtu.be/nk2CQITm_eo)"
   ]
  },
  {
   "cell_type": "markdown",
   "metadata": {
    "id": "SCWRCd6_Q-vc"
   },
   "source": [
    "## standard error\n",
    "This is an extremely interesting concept, this is closely related to the **standard deviation**, since the standard deviation formula is used to find the distance between data, here we use **y(real)* * y **y(estimated)** to subsequently apply the following formula:\n",
    "$$stderr = \\sqrt{\\frac{\\sum{(y(estimated)-y(actual))^²}}{n-2}}$$\n",
    "Where:\n",
    "- y(estimated) is the **y** value predicted by the line.\n",
    "- y(real) is the actual **y** value of the sample.\n",
    "- n is the number of the sample and something important is to subtract 2, because it is about two variables of a sample, but not of the total population.\n",
    "\n",
    "```\n",
    "==================================================== ============================\n",
    "                  coef std err\n",
    "-------------------------------------------------- ----------------------------\n",
    "const 0.2750 0.409\n",
    "SAT 0.0017 0.000\n",
    "==================================================== ============================\n",
    "```\n",
    "\n",
    "Intuitively, the **standard error consists of taking the standard deviation from the subtraction of the predicted values and the real values**, then it is the mean of the differences between the predicted and real values, **the closer to 0* * More accuracy in predictions. [For more information see the following link](https://youtu.be/r-txC-dpI-E)"
   ]
  },
  {
   "cell_type": "markdown",
   "metadata": {
    "id": "BYKwoZnJJ4SW"
   },
   "source": [
    "## t-statistic\n",
    "It is possible to obtain a **t** statistic from the regression line, for this **n-2** degrees of freedom are used and a two-tailed analysis is performed.\n",
    "The following formula is used:\n",
    "$$t = \\frac{B - \\hat{B}}{stderr}$$\n",
    "- B is the coefficient.\n",
    "- $\\hat{B}$, the value that subtracts from B is equal to 0.\n",
    "- stderr is the standard error.\n",
    "\n",
    "```\n",
    "==================================================== ============================\n",
    "                  coef std err t P>|t|\n",
    "-------------------------------------------------- ----------------------------\n",
    "const 0.2750 0.409 0.673 0.503\n",
    "SAT 0.0017 0.000 7.487 0.000\n",
    "==================================================== ============================\n",
    "```\n",
    "\n",
    "It is possible to obtain the result manually:\n",
    "\n",
    "$$t=\\frac{0.2750-0}{0.409} = 0.503$$\n",
    "\n",
    "Once the **t** value is obtained, it is possible to obtain the **p** values within the curve:\n",
    "\n",
    "```\n",
    "from scipy.stats import t\n",
    "\n",
    "student = t(82)\n",
    "p = student.sf(0.673) * 2\n",
    "print(p)\n",
    "0.5028395923141211\n",
    "```\n",
    "\n",
    "This rounded value is **0.503** and something important is to multiply the result by 2 since it is a two-tailed analysis.\n",
    "\n",
    "Now based on this it is necessary to apply the hypotheses:\n",
    "\n",
    "- **H0(null hypothesis)**: The slope of the variable is equal to 0.\n",
    "- **H1(Alternate hypothesis)**: The slope is different from 0."
   ]
  },
  {
   "cell_type": "code",
   "execution_count": null,
   "metadata": {
    "colab": {
     "base_uri": "https://localhost:8080/",
     "height": 291
    },
    "executionInfo": {
     "elapsed": 343,
     "status": "ok",
     "timestamp": 1643578744010,
     "user": {
      "displayName": "Adrian Hermoza Bayona",
      "photoUrl": "https://lh3.googleusercontent.com/a/default-user=s64",
      "userId": "18407196184190084623"
     },
     "user_tz": 300
    },
    "id": "PnXll7RdJ8FL",
    "outputId": "b3972940-d156-4d5e-adb1-c57d5d2c5b83"
   },
   "outputs": [
    {
     "data": {
      "image/png": "[encoded data removed]",
      "text/plain": [
       "<Figure size 432x288 with 1 Axes>"
      ]
     },
     "metadata": {},
     "output_type": "display_data"
    }
   ],
   "source": [
    "plt.scatter(x1,y)\n",
    "plt.scatter(x1,y)\n",
    "# The line according to the regression model\n",
    "yhat = 0.275 + 0.0017*x1\n",
    "fig = plt.plot(x1,yhat, lw=4, c='red', label ='regression line')\n",
    "# The same graph but taking the intercept to 0\n",
    "yhat = 0.0017*x1 + 0\n",
    "fig = plt.plot(x1,yhat, lw=4, c='green', label ='regression line')\n",
    "plt.xlabel('SAT', fontsize = 20)\n",
    "plt.ylabel('GPA', fontsize = 20)\n",
    "plt.xlim(0)\n",
    "plt.ylim(0)\n",
    "plt.show()"
   ]
  },
  {
   "cell_type": "code",
   "execution_count": null,
   "metadata": {
    "colab": {
     "base_uri": "https://localhost:8080/",
     "height": 291
    },
    "executionInfo": {
     "elapsed": 351,
     "status": "ok",
     "timestamp": 1643578744353,
     "user": {
      "displayName": "Adrian Hermoza Bayona",
      "photoUrl": "https://lh3.googleusercontent.com/a/default-user=s64",
      "userId": "18407196184190084623"
     },
     "user_tz": 300
    },
    "id": "Bc6EYaCvJ8FM",
    "outputId": "e19795da-dfed-42e6-a814-74a32c20300c"
   },
   "outputs": [
    {
     "data": {
      "image/png": "[encoded data removed]",
      "text/plain": [
       "<Figure size 432x288 with 1 Axes>"
      ]
     },
     "metadata": {},
     "output_type": "display_data"
    }
   ],
   "source": [
    "# The same graph but playing with coef equaling it to 0 (There is no relationship)\n",
    "plt.scatter(x1,y)\n",
    "yhat = 0*x1 + 0.275\n",
    "fig = plt.plot(x1,yhat, lw=4, c='red', label ='regression line')\n",
    "plt.xlabel('SAT', fontsize = 20)\n",
    "plt.ylabel('GPA', fontsize = 20)\n",
    "plt.show()"
   ]
  }
 ],
 "metadata": {
  "colab": {
   "provenance": [],
   "toc_visible": true
  },
  "kernelspec": {
   "display_name": "Python 3 (ipykernel)",
   "language": "python",
   "name": "python3"
  },
  "language_info": {
   "codemirror_mode": {
    "name": "ipython",
    "version": 3
   },
   "file_extension": ".py",
   "mimetype": "text/x-python",
   "name": "python",
   "nbconvert_exporter": "python",
   "pygments_lexer": "ipython3",
   "version": "3.9.13"
  }
 },
 "nbformat": 4,
 "nbformat_minor": 1
}
