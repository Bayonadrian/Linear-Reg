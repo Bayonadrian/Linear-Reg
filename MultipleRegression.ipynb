{
 "cells": [
  {
   "cell_type": "markdown",
   "metadata": {
    "id": "M7L3W8679YfJ"
   },
   "source": [
    "# Multiple linear regression\n",
    "If more than one variable is needed, it is possible to use a multiple linear regression.\n"
   ]
  },
  {
   "cell_type": "code",
   "execution_count": null,
   "metadata": {
    "colab": {
     "base_uri": "https://localhost:8080/"
    },
    "id": "F6v77_Eb9fHl",
    "outputId": "3ec8ea2e-347f-456f-91c0-ff5bf1d0e25b"
   },
   "outputs": [
    {
     "name": "stdout",
     "output_type": "stream",
     "text": [
      "Drive already mounted at /content/Drive; to attempt to forcibly remount, call drive.mount(\"/content/Drive\", force_remount=True).\n"
     ]
    }
   ],
   "source": [
    "from google.colab import drive\n",
    "drive.mount('/content/Drive')"
   ]
  },
  {
   "cell_type": "code",
   "execution_count": null,
   "metadata": {
    "colab": {
     "base_uri": "https://localhost:8080/"
    },
    "id": "92JGGyy_9zhb",
    "outputId": "e2699f54-10c1-47a4-e832-1c9b718e1241"
   },
   "outputs": [
    {
     "name": "stdout",
     "output_type": "stream",
     "text": [
      "/content/Drive/MyDrive/Colab Notebooks/MachineLearning/Models/LinearRegression/Linear Example Advanced/Multiple Linear Regression\n",
      "'Dummies for MultipleRegression.csv'   MultipleRegression.ipynb\n",
      " MultipleData.csv\n"
     ]
    }
   ],
   "source": [
    "%cd '/content/Drive/MyDrive/Colab Notebooks/MachineLearning/Models/LinearRegression/Linear Example Advanced/Multiple Linear Regression'\n",
    "!ls"
   ]
  },
  {
   "cell_type": "markdown",
   "metadata": {
    "id": "0c9Mj1iL9YfV"
   },
   "source": [
    "## Importing the necessary libraries\n",
    "The following libraries are imported:\n",
    "- numpy: For handling arrays efficiently.\n",
    "- pandas: For managing data in the form of a DataFrame, similar to excel.\n",
    "- matplotlib.pyplot: To make graphs.\n",
    "- statmodels: To perform the linear regression model.\n",
    "- seaborn: To style matplotlib plots.\n",
    "- tabulate: To draw tables with the data."
   ]
  },
  {
   "cell_type": "code",
   "execution_count": null,
   "metadata": {
    "id": "ikcfJjea9YfW"
   },
   "outputs": [],
   "source": [
    "import numpy as np\n",
    "import pandas as pd\n",
    "import matplotlib.pyplot as plt\n",
    "import statsmodels.api as sm\n",
    "import seaborn\n",
    "from tabulate import tabulate\n",
    "seaborn.set()"
   ]
  },
  {
   "cell_type": "markdown",
   "metadata": {
    "id": "FX1vY8zT9YfY"
   },
   "source": [
    "## Cargando la data"
   ]
  },
  {
   "cell_type": "code",
   "execution_count": null,
   "metadata": {
    "id": "Rdi0807E9YfY"
   },
   "outputs": [],
   "source": [
    "data = pd.read_csv('MultipleData.csv')"
   ]
  },
  {
   "cell_type": "markdown",
   "metadata": {
    "id": "FYcp8QyQA85u"
   },
   "source": [
    "The same data is observed from the simple linear regression example:\n",
    "- \"SAT score\": Contains \"reading comprehension\", \"math\" and \"Writing\".\n",
    "- \"GPA\": Grade point average, obtained upon completion of university.\n",
    "\n",
    "But we add the variable **Rand 1,2,3**, which is a random assignment of numbers from one to three to the students, so this variable **probably has no predictive value**."
   ]
  },
  {
   "cell_type": "code",
   "execution_count": null,
   "metadata": {
    "colab": {
     "base_uri": "https://localhost:8080/",
     "height": 424
    },
    "id": "I6A2O98n9YfZ",
    "outputId": "3e234e83-9273-4f79-fff9-e4c23886f371",
    "scrolled": true
   },
   "outputs": [
    {
     "data": {
      "text/html": [
       "\n",
       "  <div id=\"df-04f5ad37-25e5-4823-8aa1-c7c77c45d4bd\">\n",
       "    <div class=\"colab-df-container\">\n",
       "      <div>\n",
       "<style scoped>\n",
       "    .dataframe tbody tr th:only-of-type {\n",
       "        vertical-align: middle;\n",
       "    }\n",
       "\n",
       "    .dataframe tbody tr th {\n",
       "        vertical-align: top;\n",
       "    }\n",
       "\n",
       "    .dataframe thead th {\n",
       "        text-align: right;\n",
       "    }\n",
       "</style>\n",
       "<table border=\"1\" class=\"dataframe\">\n",
       "  <thead>\n",
       "    <tr style=\"text-align: right;\">\n",
       "      <th></th>\n",
       "      <th>SAT</th>\n",
       "      <th>GPA</th>\n",
       "      <th>Rand 1,2,3</th>\n",
       "    </tr>\n",
       "  </thead>\n",
       "  <tbody>\n",
       "    <tr>\n",
       "      <th>0</th>\n",
       "      <td>1714</td>\n",
       "      <td>2.40</td>\n",
       "      <td>1</td>\n",
       "    </tr>\n",
       "    <tr>\n",
       "      <th>1</th>\n",
       "      <td>1664</td>\n",
       "      <td>2.52</td>\n",
       "      <td>3</td>\n",
       "    </tr>\n",
       "    <tr>\n",
       "      <th>2</th>\n",
       "      <td>1760</td>\n",
       "      <td>2.54</td>\n",
       "      <td>3</td>\n",
       "    </tr>\n",
       "    <tr>\n",
       "      <th>3</th>\n",
       "      <td>1685</td>\n",
       "      <td>2.74</td>\n",
       "      <td>3</td>\n",
       "    </tr>\n",
       "    <tr>\n",
       "      <th>4</th>\n",
       "      <td>1693</td>\n",
       "      <td>2.83</td>\n",
       "      <td>2</td>\n",
       "    </tr>\n",
       "    <tr>\n",
       "      <th>...</th>\n",
       "      <td>...</td>\n",
       "      <td>...</td>\n",
       "      <td>...</td>\n",
       "    </tr>\n",
       "    <tr>\n",
       "      <th>79</th>\n",
       "      <td>1936</td>\n",
       "      <td>3.71</td>\n",
       "      <td>3</td>\n",
       "    </tr>\n",
       "    <tr>\n",
       "      <th>80</th>\n",
       "      <td>1810</td>\n",
       "      <td>3.71</td>\n",
       "      <td>1</td>\n",
       "    </tr>\n",
       "    <tr>\n",
       "      <th>81</th>\n",
       "      <td>1987</td>\n",
       "      <td>3.73</td>\n",
       "      <td>3</td>\n",
       "    </tr>\n",
       "    <tr>\n",
       "      <th>82</th>\n",
       "      <td>1962</td>\n",
       "      <td>3.76</td>\n",
       "      <td>1</td>\n",
       "    </tr>\n",
       "    <tr>\n",
       "      <th>83</th>\n",
       "      <td>2050</td>\n",
       "      <td>3.81</td>\n",
       "      <td>2</td>\n",
       "    </tr>\n",
       "  </tbody>\n",
       "</table>\n",
       "<p>84 rows × 3 columns</p>\n",
       "</div>\n",
       "      <button class=\"colab-df-convert\" onclick=\"convertToInteractive('df-04f5ad37-25e5-4823-8aa1-c7c77c45d4bd')\"\n",
       "              title=\"Convert this dataframe to an interactive table.\"\n",
       "              style=\"display:none;\">\n",
       "        \n",
       "  <svg xmlns=\"http://www.w3.org/2000/svg\" height=\"24px\"viewBox=\"0 0 24 24\"\n",
       "       width=\"24px\">\n",
       "    <path d=\"M0 0h24v24H0V0z\" fill=\"none\"/>\n",
       "    <path d=\"M18.56 5.44l.94 2.06.94-2.06 2.06-.94-2.06-.94-.94-2.06-.94 2.06-2.06.94zm-11 1L8.5 8.5l.94-2.06 2.06-.94-2.06-.94L8.5 2.5l-.94 2.06-2.06.94zm10 10l.94 2.06.94-2.06 2.06-.94-2.06-.94-.94-2.06-.94 2.06-2.06.94z\"/><path d=\"M17.41 7.96l-1.37-1.37c-.4-.4-.92-.59-1.43-.59-.52 0-1.04.2-1.43.59L10.3 9.45l-7.72 7.72c-.78.78-.78 2.05 0 2.83L4 21.41c.39.39.9.59 1.41.59.51 0 1.02-.2 1.41-.59l7.78-7.78 2.81-2.81c.8-.78.8-2.07 0-2.86zM5.41 20L4 18.59l7.72-7.72 1.47 1.35L5.41 20z\"/>\n",
       "  </svg>\n",
       "      </button>\n",
       "      \n",
       "  <style>\n",
       "    .colab-df-container {\n",
       "      display:flex;\n",
       "      flex-wrap:wrap;\n",
       "      gap: 12px;\n",
       "    }\n",
       "\n",
       "    .colab-df-convert {\n",
       "      background-color: #E8F0FE;\n",
       "      border: none;\n",
       "      border-radius: 50%;\n",
       "      cursor: pointer;\n",
       "      display: none;\n",
       "      fill: #1967D2;\n",
       "      height: 32px;\n",
       "      padding: 0 0 0 0;\n",
       "      width: 32px;\n",
       "    }\n",
       "\n",
       "    .colab-df-convert:hover {\n",
       "      background-color: #E2EBFA;\n",
       "      box-shadow: 0px 1px 2px rgba(60, 64, 67, 0.3), 0px 1px 3px 1px rgba(60, 64, 67, 0.15);\n",
       "      fill: #174EA6;\n",
       "    }\n",
       "\n",
       "    [theme=dark] .colab-df-convert {\n",
       "      background-color: #3B4455;\n",
       "      fill: #D2E3FC;\n",
       "    }\n",
       "\n",
       "    [theme=dark] .colab-df-convert:hover {\n",
       "      background-color: #434B5C;\n",
       "      box-shadow: 0px 1px 3px 1px rgba(0, 0, 0, 0.15);\n",
       "      filter: drop-shadow(0px 1px 2px rgba(0, 0, 0, 0.3));\n",
       "      fill: #FFFFFF;\n",
       "    }\n",
       "  </style>\n",
       "\n",
       "      <script>\n",
       "        const buttonEl =\n",
       "          document.querySelector('#df-04f5ad37-25e5-4823-8aa1-c7c77c45d4bd button.colab-df-convert');\n",
       "        buttonEl.style.display =\n",
       "          google.colab.kernel.accessAllowed ? 'block' : 'none';\n",
       "\n",
       "        async function convertToInteractive(key) {\n",
       "          const element = document.querySelector('#df-04f5ad37-25e5-4823-8aa1-c7c77c45d4bd');\n",
       "          const dataTable =\n",
       "            await google.colab.kernel.invokeFunction('convertToInteractive',\n",
       "                                                     [key], {});\n",
       "          if (!dataTable) return;\n",
       "\n",
       "          const docLinkHtml = 'Like what you see? Visit the ' +\n",
       "            '<a target=\"_blank\" href=https://colab.research.google.com/notebooks/data_table.ipynb>data table notebook</a>'\n",
       "            + ' to learn more about interactive tables.';\n",
       "          element.innerHTML = '';\n",
       "          dataTable['output_type'] = 'display_data';\n",
       "          await google.colab.output.renderOutput(dataTable, element);\n",
       "          const docLink = document.createElement('div');\n",
       "          docLink.innerHTML = docLinkHtml;\n",
       "          element.appendChild(docLink);\n",
       "        }\n",
       "      </script>\n",
       "    </div>\n",
       "  </div>\n",
       "  "
      ],
      "text/plain": [
       "     SAT   GPA  Rand 1,2,3\n",
       "0   1714  2.40           1\n",
       "1   1664  2.52           3\n",
       "2   1760  2.54           3\n",
       "3   1685  2.74           3\n",
       "4   1693  2.83           2\n",
       "..   ...   ...         ...\n",
       "79  1936  3.71           3\n",
       "80  1810  3.71           1\n",
       "81  1987  3.73           3\n",
       "82  1962  3.76           1\n",
       "83  2050  3.81           2\n",
       "\n",
       "[84 rows x 3 columns]"
      ]
     },
     "execution_count": 79,
     "metadata": {},
     "output_type": "execute_result"
    }
   ],
   "source": [
    "data"
   ]
  },
  {
   "cell_type": "code",
   "execution_count": null,
   "metadata": {
    "colab": {
     "base_uri": "https://localhost:8080/",
     "height": 300
    },
    "id": "2WOMxpnE9YfZ",
    "outputId": "3ae53899-d1de-4309-b992-6220d4621dca"
   },
   "outputs": [
    {
     "data": {
      "text/html": [
       "\n",
       "  <div id=\"df-977deb8b-c459-495d-bf17-56a579f2b441\">\n",
       "    <div class=\"colab-df-container\">\n",
       "      <div>\n",
       "<style scoped>\n",
       "    .dataframe tbody tr th:only-of-type {\n",
       "        vertical-align: middle;\n",
       "    }\n",
       "\n",
       "    .dataframe tbody tr th {\n",
       "        vertical-align: top;\n",
       "    }\n",
       "\n",
       "    .dataframe thead th {\n",
       "        text-align: right;\n",
       "    }\n",
       "</style>\n",
       "<table border=\"1\" class=\"dataframe\">\n",
       "  <thead>\n",
       "    <tr style=\"text-align: right;\">\n",
       "      <th></th>\n",
       "      <th>SAT</th>\n",
       "      <th>GPA</th>\n",
       "      <th>Rand 1,2,3</th>\n",
       "    </tr>\n",
       "  </thead>\n",
       "  <tbody>\n",
       "    <tr>\n",
       "      <th>count</th>\n",
       "      <td>84.000000</td>\n",
       "      <td>84.000000</td>\n",
       "      <td>84.000000</td>\n",
       "    </tr>\n",
       "    <tr>\n",
       "      <th>mean</th>\n",
       "      <td>1845.273810</td>\n",
       "      <td>3.330238</td>\n",
       "      <td>2.059524</td>\n",
       "    </tr>\n",
       "    <tr>\n",
       "      <th>std</th>\n",
       "      <td>104.530661</td>\n",
       "      <td>0.271617</td>\n",
       "      <td>0.855192</td>\n",
       "    </tr>\n",
       "    <tr>\n",
       "      <th>min</th>\n",
       "      <td>1634.000000</td>\n",
       "      <td>2.400000</td>\n",
       "      <td>1.000000</td>\n",
       "    </tr>\n",
       "    <tr>\n",
       "      <th>25%</th>\n",
       "      <td>1772.000000</td>\n",
       "      <td>3.190000</td>\n",
       "      <td>1.000000</td>\n",
       "    </tr>\n",
       "    <tr>\n",
       "      <th>50%</th>\n",
       "      <td>1846.000000</td>\n",
       "      <td>3.380000</td>\n",
       "      <td>2.000000</td>\n",
       "    </tr>\n",
       "    <tr>\n",
       "      <th>75%</th>\n",
       "      <td>1934.000000</td>\n",
       "      <td>3.502500</td>\n",
       "      <td>3.000000</td>\n",
       "    </tr>\n",
       "    <tr>\n",
       "      <th>max</th>\n",
       "      <td>2050.000000</td>\n",
       "      <td>3.810000</td>\n",
       "      <td>3.000000</td>\n",
       "    </tr>\n",
       "  </tbody>\n",
       "</table>\n",
       "</div>\n",
       "      <button class=\"colab-df-convert\" onclick=\"convertToInteractive('df-977deb8b-c459-495d-bf17-56a579f2b441')\"\n",
       "              title=\"Convert this dataframe to an interactive table.\"\n",
       "              style=\"display:none;\">\n",
       "        \n",
       "  <svg xmlns=\"http://www.w3.org/2000/svg\" height=\"24px\"viewBox=\"0 0 24 24\"\n",
       "       width=\"24px\">\n",
       "    <path d=\"M0 0h24v24H0V0z\" fill=\"none\"/>\n",
       "    <path d=\"M18.56 5.44l.94 2.06.94-2.06 2.06-.94-2.06-.94-.94-2.06-.94 2.06-2.06.94zm-11 1L8.5 8.5l.94-2.06 2.06-.94-2.06-.94L8.5 2.5l-.94 2.06-2.06.94zm10 10l.94 2.06.94-2.06 2.06-.94-2.06-.94-.94-2.06-.94 2.06-2.06.94z\"/><path d=\"M17.41 7.96l-1.37-1.37c-.4-.4-.92-.59-1.43-.59-.52 0-1.04.2-1.43.59L10.3 9.45l-7.72 7.72c-.78.78-.78 2.05 0 2.83L4 21.41c.39.39.9.59 1.41.59.51 0 1.02-.2 1.41-.59l7.78-7.78 2.81-2.81c.8-.78.8-2.07 0-2.86zM5.41 20L4 18.59l7.72-7.72 1.47 1.35L5.41 20z\"/>\n",
       "  </svg>\n",
       "      </button>\n",
       "      \n",
       "  <style>\n",
       "    .colab-df-container {\n",
       "      display:flex;\n",
       "      flex-wrap:wrap;\n",
       "      gap: 12px;\n",
       "    }\n",
       "\n",
       "    .colab-df-convert {\n",
       "      background-color: #E8F0FE;\n",
       "      border: none;\n",
       "      border-radius: 50%;\n",
       "      cursor: pointer;\n",
       "      display: none;\n",
       "      fill: #1967D2;\n",
       "      height: 32px;\n",
       "      padding: 0 0 0 0;\n",
       "      width: 32px;\n",
       "    }\n",
       "\n",
       "    .colab-df-convert:hover {\n",
       "      background-color: #E2EBFA;\n",
       "      box-shadow: 0px 1px 2px rgba(60, 64, 67, 0.3), 0px 1px 3px 1px rgba(60, 64, 67, 0.15);\n",
       "      fill: #174EA6;\n",
       "    }\n",
       "\n",
       "    [theme=dark] .colab-df-convert {\n",
       "      background-color: #3B4455;\n",
       "      fill: #D2E3FC;\n",
       "    }\n",
       "\n",
       "    [theme=dark] .colab-df-convert:hover {\n",
       "      background-color: #434B5C;\n",
       "      box-shadow: 0px 1px 3px 1px rgba(0, 0, 0, 0.15);\n",
       "      filter: drop-shadow(0px 1px 2px rgba(0, 0, 0, 0.3));\n",
       "      fill: #FFFFFF;\n",
       "    }\n",
       "  </style>\n",
       "\n",
       "      <script>\n",
       "        const buttonEl =\n",
       "          document.querySelector('#df-977deb8b-c459-495d-bf17-56a579f2b441 button.colab-df-convert');\n",
       "        buttonEl.style.display =\n",
       "          google.colab.kernel.accessAllowed ? 'block' : 'none';\n",
       "\n",
       "        async function convertToInteractive(key) {\n",
       "          const element = document.querySelector('#df-977deb8b-c459-495d-bf17-56a579f2b441');\n",
       "          const dataTable =\n",
       "            await google.colab.kernel.invokeFunction('convertToInteractive',\n",
       "                                                     [key], {});\n",
       "          if (!dataTable) return;\n",
       "\n",
       "          const docLinkHtml = 'Like what you see? Visit the ' +\n",
       "            '<a target=\"_blank\" href=https://colab.research.google.com/notebooks/data_table.ipynb>data table notebook</a>'\n",
       "            + ' to learn more about interactive tables.';\n",
       "          element.innerHTML = '';\n",
       "          dataTable['output_type'] = 'display_data';\n",
       "          await google.colab.output.renderOutput(dataTable, element);\n",
       "          const docLink = document.createElement('div');\n",
       "          docLink.innerHTML = docLinkHtml;\n",
       "          element.appendChild(docLink);\n",
       "        }\n",
       "      </script>\n",
       "    </div>\n",
       "  </div>\n",
       "  "
      ],
      "text/plain": [
       "               SAT        GPA  Rand 1,2,3\n",
       "count    84.000000  84.000000   84.000000\n",
       "mean   1845.273810   3.330238    2.059524\n",
       "std     104.530661   0.271617    0.855192\n",
       "min    1634.000000   2.400000    1.000000\n",
       "25%    1772.000000   3.190000    1.000000\n",
       "50%    1846.000000   3.380000    2.000000\n",
       "75%    1934.000000   3.502500    3.000000\n",
       "max    2050.000000   3.810000    3.000000"
      ]
     },
     "execution_count": 80,
     "metadata": {},
     "output_type": "execute_result"
    }
   ],
   "source": [
    "data.describe()"
   ]
  },
  {
   "cell_type": "markdown",
   "metadata": {
    "id": "GPoLWvF89Yfa"
   },
   "source": [
    "# Creating the regression model\n",
    "Since one **(SAT)** is the score in critical areas and the other**(GPA)** is the score at the end of college, it makes sense that there is a relationship between the two, so we define **GPA** as the dependent variable and **SAT** as the independent variable.\n",
    "\n",
    "In this case another independent variable will be **Rand 1,2,3**."
   ]
  },
  {
   "cell_type": "code",
   "execution_count": null,
   "metadata": {
    "id": "emkWEOgJ9Yfb"
   },
   "outputs": [],
   "source": [
    "y = data ['GPA']\n",
    "x1 = data [['SAT','Rand 1,2,3']]"
   ]
  },
  {
   "cell_type": "markdown",
   "metadata": {
    "id": "w8gBxS1JCyvV"
   },
   "source": [
    "It is necessary to add a constant, using the **add_constant** function."
   ]
  },
  {
   "cell_type": "code",
   "execution_count": null,
   "metadata": {
    "colab": {
     "base_uri": "https://localhost:8080/"
    },
    "id": "EuEGn_FU9Yfc",
    "outputId": "b8c62912-10fd-492b-e261-35030c97ac5d"
   },
   "outputs": [
    {
     "name": "stderr",
     "output_type": "stream",
     "text": [
      "/usr/local/lib/python3.7/dist-packages/statsmodels/tsa/tsatools.py:117: FutureWarning: In a future version of pandas all arguments of concat except for the argument 'objs' will be keyword-only\n",
      "  x = pd.concat(x[::order], 1)\n"
     ]
    }
   ],
   "source": [
    "x = sm.add_constant(x1)\n",
    "results = sm.OLS(y,x).fit()"
   ]
  },
  {
   "cell_type": "code",
   "execution_count": null,
   "metadata": {
    "colab": {
     "base_uri": "https://localhost:8080/",
     "height": 508
    },
    "id": "tcXmLty_9Yfc",
    "outputId": "dc4113de-569d-4d6e-f996-8168ba7e2548"
   },
   "outputs": [
    {
     "data": {
      "text/html": [
       "<table class=\"simpletable\">\n",
       "<caption>OLS Regression Results</caption>\n",
       "<tr>\n",
       "  <th>Dep. Variable:</th>           <td>GPA</td>       <th>  R-squared:         </th> <td>   0.407</td>\n",
       "</tr>\n",
       "<tr>\n",
       "  <th>Model:</th>                   <td>OLS</td>       <th>  Adj. R-squared:    </th> <td>   0.392</td>\n",
       "</tr>\n",
       "<tr>\n",
       "  <th>Method:</th>             <td>Least Squares</td>  <th>  F-statistic:       </th> <td>   27.76</td>\n",
       "</tr>\n",
       "<tr>\n",
       "  <th>Date:</th>             <td>Wed, 09 Feb 2022</td> <th>  Prob (F-statistic):</th> <td>6.58e-10</td>\n",
       "</tr>\n",
       "<tr>\n",
       "  <th>Time:</th>                 <td>05:22:30</td>     <th>  Log-Likelihood:    </th> <td>  12.720</td>\n",
       "</tr>\n",
       "<tr>\n",
       "  <th>No. Observations:</th>      <td>    84</td>      <th>  AIC:               </th> <td>  -19.44</td>\n",
       "</tr>\n",
       "<tr>\n",
       "  <th>Df Residuals:</th>          <td>    81</td>      <th>  BIC:               </th> <td>  -12.15</td>\n",
       "</tr>\n",
       "<tr>\n",
       "  <th>Df Model:</th>              <td>     2</td>      <th>                     </th>     <td> </td>   \n",
       "</tr>\n",
       "<tr>\n",
       "  <th>Covariance Type:</th>      <td>nonrobust</td>    <th>                     </th>     <td> </td>   \n",
       "</tr>\n",
       "</table>\n",
       "<table class=\"simpletable\">\n",
       "<tr>\n",
       "       <td></td>         <th>coef</th>     <th>std err</th>      <th>t</th>      <th>P>|t|</th>  <th>[0.025</th>    <th>0.975]</th>  \n",
       "</tr>\n",
       "<tr>\n",
       "  <th>const</th>      <td>    0.2960</td> <td>    0.417</td> <td>    0.710</td> <td> 0.480</td> <td>   -0.533</td> <td>    1.125</td>\n",
       "</tr>\n",
       "<tr>\n",
       "  <th>SAT</th>        <td>    0.0017</td> <td>    0.000</td> <td>    7.432</td> <td> 0.000</td> <td>    0.001</td> <td>    0.002</td>\n",
       "</tr>\n",
       "<tr>\n",
       "  <th>Rand 1,2,3</th> <td>   -0.0083</td> <td>    0.027</td> <td>   -0.304</td> <td> 0.762</td> <td>   -0.062</td> <td>    0.046</td>\n",
       "</tr>\n",
       "</table>\n",
       "<table class=\"simpletable\">\n",
       "<tr>\n",
       "  <th>Omnibus:</th>       <td>12.992</td> <th>  Durbin-Watson:     </th> <td>   0.948</td>\n",
       "</tr>\n",
       "<tr>\n",
       "  <th>Prob(Omnibus):</th> <td> 0.002</td> <th>  Jarque-Bera (JB):  </th> <td>  16.364</td>\n",
       "</tr>\n",
       "<tr>\n",
       "  <th>Skew:</th>          <td>-0.731</td> <th>  Prob(JB):          </th> <td>0.000280</td>\n",
       "</tr>\n",
       "<tr>\n",
       "  <th>Kurtosis:</th>      <td> 4.594</td> <th>  Cond. No.          </th> <td>3.33e+04</td>\n",
       "</tr>\n",
       "</table><br/><br/>Warnings:<br/>[1] Standard Errors assume that the covariance matrix of the errors is correctly specified.<br/>[2] The condition number is large, 3.33e+04. This might indicate that there are<br/>strong multicollinearity or other numerical problems."
      ],
      "text/plain": [
       "<class 'statsmodels.iolib.summary.Summary'>\n",
       "\"\"\"\n",
       "                            OLS Regression Results                            \n",
       "==============================================================================\n",
       "Dep. Variable:                    GPA   R-squared:                       0.407\n",
       "Model:                            OLS   Adj. R-squared:                  0.392\n",
       "Method:                 Least Squares   F-statistic:                     27.76\n",
       "Date:                Wed, 09 Feb 2022   Prob (F-statistic):           6.58e-10\n",
       "Time:                        05:22:30   Log-Likelihood:                 12.720\n",
       "No. Observations:                  84   AIC:                            -19.44\n",
       "Df Residuals:                      81   BIC:                            -12.15\n",
       "Df Model:                           2                                         \n",
       "Covariance Type:            nonrobust                                         \n",
       "==============================================================================\n",
       "                 coef    std err          t      P>|t|      [0.025      0.975]\n",
       "------------------------------------------------------------------------------\n",
       "const          0.2960      0.417      0.710      0.480      -0.533       1.125\n",
       "SAT            0.0017      0.000      7.432      0.000       0.001       0.002\n",
       "Rand 1,2,3    -0.0083      0.027     -0.304      0.762      -0.062       0.046\n",
       "==============================================================================\n",
       "Omnibus:                       12.992   Durbin-Watson:                   0.948\n",
       "Prob(Omnibus):                  0.002   Jarque-Bera (JB):               16.364\n",
       "Skew:                          -0.731   Prob(JB):                     0.000280\n",
       "Kurtosis:                       4.594   Cond. No.                     3.33e+04\n",
       "==============================================================================\n",
       "\n",
       "Warnings:\n",
       "[1] Standard Errors assume that the covariance matrix of the errors is correctly specified.\n",
       "[2] The condition number is large, 3.33e+04. This might indicate that there are\n",
       "strong multicollinearity or other numerical problems.\n",
       "\"\"\""
      ]
     },
     "execution_count": 83,
     "metadata": {},
     "output_type": "execute_result"
    }
   ],
   "source": [
    "results.summary()"
   ]
  },
  {
   "cell_type": "markdown",
   "metadata": {
    "id": "hKXbeT_8ndun"
   },
   "source": [
    "# Other important concepts before performing a linear regression\n",
    "It is important to keep in mind that there are assumptions prior to performing a linear regression, for more information this [video] is recommended (https://youtu.be/0MFpOQRY0rw)"
   ]
  },
  {
   "cell_type": "markdown",
   "metadata": {
    "id": "uh_IZV_0ni_o"
   },
   "source": [
    "## Linearity\n",
    "Linearity is based on the assumption that the data used has a linear nature, the best way to verify this is by means of a **Scatter plot**. **It is possible to fix this problem by means of a logarithmic transformation**."
   ]
  },
  {
   "cell_type": "markdown",
   "metadata": {
    "id": "XP6aW0wRnxCX"
   },
   "source": [
    "## Endogeneity\n",
    "Endogeneity is a very important issue and this happens when an unused variable has greater weight than a used variable, such as if a sample of London apartments is taken using two variables: the price of the space (Dependent) and the size of the space. space(independent), let's imagine that in the example we have a negative slope, which is totally counterintuitive, so that when we analyze the problem more closely we realize that within the city of london is the center of london, the which is known for having the most expensive spaces in the world, then by adding one more variable indicating whether it belongs to the center or not it is possible to remedy the problem. Another way to work around the problem is by using a process called [Two-Stage Least-Squares Regression](https://www.ibm.com/docs/en/spss-statistics/SaaS?topic=regression-two-stage-least -squares). One way to detect endogeneity is through the [Durbin-Wu-Hausman (DWH)](https://www.statisticshowto.com/hausman-test/) test, this test is done within the Two-Stage Least-Squares Regression."
   ]
  },
  {
   "cell_type": "markdown",
   "metadata": {
    "id": "ci8-ycU2pBOE"
   },
   "source": [
    "## Normality and Homoelasticity\n",
    "This part is divided into 3 sections:\n",
    "\n",
    "- Normality, in order to obtain inferences such as the **t-test** it is necessary that the sample has a normal distribution.\n",
    "- The mean is equal to 0. It is also used for the **t-test** test but if it has an intercept it can be assumed that it is correct.\n",
    "- Homoelasticity, when you have a conical graph we could say that the small values are easier to predict than the large ones. This is fixed by transforming **x** and **y** to their logarithmic form with **np.log **, so the formula would look like this:\n",
    "$$log(y) = intercept + slope(log(x))$$"
   ]
  },
  {
   "cell_type": "markdown",
   "metadata": {
    "id": "EVJ7sR_ABjeX"
   },
   "source": [
    "## Autocorrelation\n",
    "It occurs when working with time series only as stock market indices that are repeated every week or similar, it tries that the dependent variable is related to itself, ** this makes all statistics unreliable, be it r squared, t or f **, the way to find this problem is through the Durbin-Watson test.\n",
    "\n",
    "The value of the test ranges from 1 to 3, if it is 2 or close to this it means that **there is no autocorrelation**, but if it is less than 1 or greater than 3 **there is autocorrelation**.\n",
    "\n",
    "```\n",
    "Durbin-Watson: 0.948\n",
    "```\n",
    "\n",
    "The above case is a case of autocorrelation, in this case it is best to change the model and not apply linear regression."
   ]
  },
  {
   "attachments": {},
   "cell_type": "markdown",
   "metadata": {
    "id": "V-R3zfbCOp5a"
   },
   "source": [
    "## Multicollinearity\n",
    "Multicollinearity occurs when two or more independent variables are related to each other, since these two or more variables are related, the fluctuation of one affects the other in this way making these variables unreliable.\n",
    "\n",
    "One way to know if there is multicollinearity is through a **correlation** between the variables, something to keep in mind is that **if the correlation is greater than 85 it is a problem but nothing worse than when it is greater than 90 **. There is a better technique to know if multicollinearity exists and it is called **VIF**, for more information visit the following link https://statisticalhorizons.com/multicollinearity/."
   ]
  },
  {
   "cell_type": "markdown",
   "metadata": {
    "id": "xlbjYdbV_7Qk"
   },
   "source": [
    "### Example\n",
    "\n",
    "Let's imagine a comparison, let's imagine that our independent variables are advertisements on TV, radio and newspapers and our dependent variable is the amount of sales, so we want to know how our sales increase if we make advertisements in these 3, first we will do it with simple linear regressions for each independent variable.\n",
    "\n",
    "```\n",
    "╒════════════╤════════════════╤══════════════════╤═════════════════╤═══════════╕\n",
    "│            │   Coeficientes │   Error standard │   Estadistico t │ Valor p   │\n",
    "╞════════════╪════════════════╪══════════════════╪═════════════════╪═══════════╡\n",
    "│ Intercepto │         7.0325 │           0.4578 │           15.36 │ < 0.0001  │\n",
    "├────────────┼────────────────┼──────────────────┼─────────────────┼───────────┤\n",
    "│ Tv         │         0.0475 │           0.0027 │           17.67 │ < 0.0001  │\n",
    "╘════════════╧════════════════╧══════════════════╧═════════════════╧═══════════╛\n",
    "\n",
    "╒════════════╤════════════════╤══════════════════╤═════════════════╤═══════════╕\n",
    "│            │   Coeficientes │   Error standard │   Estadistico t │ Valor p   │\n",
    "╞════════════╪════════════════╪══════════════════╪═════════════════╪═══════════╡\n",
    "│ Intercepto │          9.312 │            0.563 │           16.54 │ < 0.0001  │\n",
    "├────────────┼────────────────┼──────────────────┼─────────────────┼───────────┤\n",
    "│ Radio      │          0.203 │            0.02  │            9.92 │ < 0.0001  │\n",
    "╘════════════╧════════════════╧══════════════════╧═════════════════╧═══════════╛\n",
    "\n",
    "╒════════════╤════════════════╤══════════════════╤═════════════════╤═══════════╕\n",
    "│            │   Coeficientes │   Error standard │   Estadistico t │ Valor p   │\n",
    "╞════════════╪════════════════╪══════════════════╪═════════════════╪═══════════╡\n",
    "│ Intercepto │         12.351 │            0.621 │           19.88 │ < 0.0001  │\n",
    "├────────────┼────────────────┼──────────────────┼─────────────────┼───────────┤\n",
    "│ Periodico  │          0.055 │            0.017 │            3.3  │ < 0.00115 │\n",
    "╘════════════╧════════════════╧══════════════════╧═════════════════╧═══════════╛\n",
    "```\n",
    "So far they all have influence, so we will do a multiple linear regression.\n",
    "\n",
    "```\n",
    "╒════════════╤═══════════════╤══════════════════╤═════════════════╤═══════════╕\n",
    "│            │   Coeficiente │   Error estandar │   Estadistico t │ Valor p   │\n",
    "╞════════════╪═══════════════╪══════════════════╪═════════════════╪═══════════╡\n",
    "│ Intercepto │         2.939 │           0.3119 │            9.42 │ < 0.0001  │\n",
    "├────────────┼───────────────┼──────────────────┼─────────────────┼───────────┤\n",
    "│ Tv         │         0.46  │           0.0014 │           32.81 │ < 0.0001  │\n",
    "├────────────┼───────────────┼──────────────────┼─────────────────┼───────────┤\n",
    "│ Radio      │         0.189 │           0.0086 │           21.89 │ < 0.0001  │\n",
    "├────────────┼───────────────┼──────────────────┼─────────────────┼───────────┤\n",
    "│ Periodico  │        -0.001 │           0.0059 │           -0.18 │ 0.8599    │\n",
    "╘════════════╧═══════════════╧══════════════════╧═════════════════╧═══════════╛\n",
    "```\n",
    "\n",
    "At this point it is necessary to observe that the independent variable \"Periodical\" has a much lower coefficient and a much higher p-value than in the simple regression, so that it becomes very unnecessary, but to know why this phenomenon is necessary evaluate it with a correlation.\n",
    "\n",
    "```\n",
    "╒═══════════╤══════╤═════════╤═════════════╤══════════╕\n",
    "│           │   Tv │   Radio │   Newspaper │   Sales  │\n",
    "╞═══════════╪══════╪═════════╪═════════════╪══════════╡\n",
    "│    Tv     │    1 │  0.0548 │      0.0567 │   0.7822 │\n",
    "├───────────┼──────┼─────────┼─────────────┼──────────┤\n",
    "│   Radio   │      │  1      │      0.3541 │   0.5762 │\n",
    "├───────────┼──────┼─────────┼─────────────┼──────────┤\n",
    "│ Periodico │      │         │      1      │   0.2283 │\n",
    "├───────────┼──────┼─────────┼─────────────┼──────────┤\n",
    "│  Ventas   │      │         │             │   1      │\n",
    "╘═══════════╧══════╧═════════╧═════════════╧══════════╛\n",
    "```\n",
    "\n",
    "Here we can see that \"Radio\" and \"Newspaper\" have a correlation of 0.3541, which is relatively high so we can infer that people who watch the newspaper also listen to the radio, so the newspaper is a surrogate for the radio. and radio ads are better received than TV ads."
   ]
  },
  {
   "cell_type": "markdown",
   "metadata": {
    "id": "PeAkFzUyvki3"
   },
   "source": [
    "# Working with categorical data\n",
    "Categorical data is non-numeric data, so it is impossible for a computer to process. The solution is to convert them into numerical data. For this another **Dataset** will be used."
   ]
  },
  {
   "cell_type": "code",
   "execution_count": null,
   "metadata": {
    "colab": {
     "base_uri": "https://localhost:8080/",
     "height": 424
    },
    "id": "RdwRvWOFv7Sv",
    "outputId": "7b87520a-17bd-4b62-ffb0-757761155b40"
   },
   "outputs": [
    {
     "data": {
      "text/html": [
       "\n",
       "  <div id=\"df-ea3bdc86-6ec6-4556-b59b-e539daa5fc12\">\n",
       "    <div class=\"colab-df-container\">\n",
       "      <div>\n",
       "<style scoped>\n",
       "    .dataframe tbody tr th:only-of-type {\n",
       "        vertical-align: middle;\n",
       "    }\n",
       "\n",
       "    .dataframe tbody tr th {\n",
       "        vertical-align: top;\n",
       "    }\n",
       "\n",
       "    .dataframe thead th {\n",
       "        text-align: right;\n",
       "    }\n",
       "</style>\n",
       "<table border=\"1\" class=\"dataframe\">\n",
       "  <thead>\n",
       "    <tr style=\"text-align: right;\">\n",
       "      <th></th>\n",
       "      <th>SAT</th>\n",
       "      <th>GPA</th>\n",
       "      <th>Attendance</th>\n",
       "    </tr>\n",
       "  </thead>\n",
       "  <tbody>\n",
       "    <tr>\n",
       "      <th>0</th>\n",
       "      <td>1714</td>\n",
       "      <td>2.40</td>\n",
       "      <td>No</td>\n",
       "    </tr>\n",
       "    <tr>\n",
       "      <th>1</th>\n",
       "      <td>1664</td>\n",
       "      <td>2.52</td>\n",
       "      <td>No</td>\n",
       "    </tr>\n",
       "    <tr>\n",
       "      <th>2</th>\n",
       "      <td>1760</td>\n",
       "      <td>2.54</td>\n",
       "      <td>No</td>\n",
       "    </tr>\n",
       "    <tr>\n",
       "      <th>3</th>\n",
       "      <td>1685</td>\n",
       "      <td>2.74</td>\n",
       "      <td>No</td>\n",
       "    </tr>\n",
       "    <tr>\n",
       "      <th>4</th>\n",
       "      <td>1693</td>\n",
       "      <td>2.83</td>\n",
       "      <td>No</td>\n",
       "    </tr>\n",
       "    <tr>\n",
       "      <th>...</th>\n",
       "      <td>...</td>\n",
       "      <td>...</td>\n",
       "      <td>...</td>\n",
       "    </tr>\n",
       "    <tr>\n",
       "      <th>79</th>\n",
       "      <td>1936</td>\n",
       "      <td>3.71</td>\n",
       "      <td>Yes</td>\n",
       "    </tr>\n",
       "    <tr>\n",
       "      <th>80</th>\n",
       "      <td>1810</td>\n",
       "      <td>3.71</td>\n",
       "      <td>Yes</td>\n",
       "    </tr>\n",
       "    <tr>\n",
       "      <th>81</th>\n",
       "      <td>1987</td>\n",
       "      <td>3.73</td>\n",
       "      <td>No</td>\n",
       "    </tr>\n",
       "    <tr>\n",
       "      <th>82</th>\n",
       "      <td>1962</td>\n",
       "      <td>3.76</td>\n",
       "      <td>Yes</td>\n",
       "    </tr>\n",
       "    <tr>\n",
       "      <th>83</th>\n",
       "      <td>2050</td>\n",
       "      <td>3.81</td>\n",
       "      <td>Yes</td>\n",
       "    </tr>\n",
       "  </tbody>\n",
       "</table>\n",
       "<p>84 rows × 3 columns</p>\n",
       "</div>\n",
       "      <button class=\"colab-df-convert\" onclick=\"convertToInteractive('df-ea3bdc86-6ec6-4556-b59b-e539daa5fc12')\"\n",
       "              title=\"Convert this dataframe to an interactive table.\"\n",
       "              style=\"display:none;\">\n",
       "        \n",
       "  <svg xmlns=\"http://www.w3.org/2000/svg\" height=\"24px\"viewBox=\"0 0 24 24\"\n",
       "       width=\"24px\">\n",
       "    <path d=\"M0 0h24v24H0V0z\" fill=\"none\"/>\n",
       "    <path d=\"M18.56 5.44l.94 2.06.94-2.06 2.06-.94-2.06-.94-.94-2.06-.94 2.06-2.06.94zm-11 1L8.5 8.5l.94-2.06 2.06-.94-2.06-.94L8.5 2.5l-.94 2.06-2.06.94zm10 10l.94 2.06.94-2.06 2.06-.94-2.06-.94-.94-2.06-.94 2.06-2.06.94z\"/><path d=\"M17.41 7.96l-1.37-1.37c-.4-.4-.92-.59-1.43-.59-.52 0-1.04.2-1.43.59L10.3 9.45l-7.72 7.72c-.78.78-.78 2.05 0 2.83L4 21.41c.39.39.9.59 1.41.59.51 0 1.02-.2 1.41-.59l7.78-7.78 2.81-2.81c.8-.78.8-2.07 0-2.86zM5.41 20L4 18.59l7.72-7.72 1.47 1.35L5.41 20z\"/>\n",
       "  </svg>\n",
       "      </button>\n",
       "      \n",
       "  <style>\n",
       "    .colab-df-container {\n",
       "      display:flex;\n",
       "      flex-wrap:wrap;\n",
       "      gap: 12px;\n",
       "    }\n",
       "\n",
       "    .colab-df-convert {\n",
       "      background-color: #E8F0FE;\n",
       "      border: none;\n",
       "      border-radius: 50%;\n",
       "      cursor: pointer;\n",
       "      display: none;\n",
       "      fill: #1967D2;\n",
       "      height: 32px;\n",
       "      padding: 0 0 0 0;\n",
       "      width: 32px;\n",
       "    }\n",
       "\n",
       "    .colab-df-convert:hover {\n",
       "      background-color: #E2EBFA;\n",
       "      box-shadow: 0px 1px 2px rgba(60, 64, 67, 0.3), 0px 1px 3px 1px rgba(60, 64, 67, 0.15);\n",
       "      fill: #174EA6;\n",
       "    }\n",
       "\n",
       "    [theme=dark] .colab-df-convert {\n",
       "      background-color: #3B4455;\n",
       "      fill: #D2E3FC;\n",
       "    }\n",
       "\n",
       "    [theme=dark] .colab-df-convert:hover {\n",
       "      background-color: #434B5C;\n",
       "      box-shadow: 0px 1px 3px 1px rgba(0, 0, 0, 0.15);\n",
       "      filter: drop-shadow(0px 1px 2px rgba(0, 0, 0, 0.3));\n",
       "      fill: #FFFFFF;\n",
       "    }\n",
       "  </style>\n",
       "\n",
       "      <script>\n",
       "        const buttonEl =\n",
       "          document.querySelector('#df-ea3bdc86-6ec6-4556-b59b-e539daa5fc12 button.colab-df-convert');\n",
       "        buttonEl.style.display =\n",
       "          google.colab.kernel.accessAllowed ? 'block' : 'none';\n",
       "\n",
       "        async function convertToInteractive(key) {\n",
       "          const element = document.querySelector('#df-ea3bdc86-6ec6-4556-b59b-e539daa5fc12');\n",
       "          const dataTable =\n",
       "            await google.colab.kernel.invokeFunction('convertToInteractive',\n",
       "                                                     [key], {});\n",
       "          if (!dataTable) return;\n",
       "\n",
       "          const docLinkHtml = 'Like what you see? Visit the ' +\n",
       "            '<a target=\"_blank\" href=https://colab.research.google.com/notebooks/data_table.ipynb>data table notebook</a>'\n",
       "            + ' to learn more about interactive tables.';\n",
       "          element.innerHTML = '';\n",
       "          dataTable['output_type'] = 'display_data';\n",
       "          await google.colab.output.renderOutput(dataTable, element);\n",
       "          const docLink = document.createElement('div');\n",
       "          docLink.innerHTML = docLinkHtml;\n",
       "          element.appendChild(docLink);\n",
       "        }\n",
       "      </script>\n",
       "    </div>\n",
       "  </div>\n",
       "  "
      ],
      "text/plain": [
       "     SAT   GPA Attendance\n",
       "0   1714  2.40         No\n",
       "1   1664  2.52         No\n",
       "2   1760  2.54         No\n",
       "3   1685  2.74         No\n",
       "4   1693  2.83         No\n",
       "..   ...   ...        ...\n",
       "79  1936  3.71        Yes\n",
       "80  1810  3.71        Yes\n",
       "81  1987  3.73         No\n",
       "82  1962  3.76        Yes\n",
       "83  2050  3.81        Yes\n",
       "\n",
       "[84 rows x 3 columns]"
      ]
     },
     "execution_count": 84,
     "metadata": {},
     "output_type": "execute_result"
    }
   ],
   "source": [
    "ddf = pd.read_csv('Dummies for MultipleRegression.csv')\n",
    "ddf"
   ]
  },
  {
   "cell_type": "markdown",
   "metadata": {
    "id": "9yP-fnYXwdYk"
   },
   "source": [
    "There are multiple ways to generate **\"Dummy\"** variables or to convert categorical data to numeric data."
   ]
  },
  {
   "cell_type": "code",
   "execution_count": null,
   "metadata": {
    "colab": {
     "base_uri": "https://localhost:8080/",
     "height": 424
    },
    "id": "vPUa_V0QxWDX",
    "outputId": "67b8fafa-945a-4ec6-9c49-1efcd4c22791"
   },
   "outputs": [
    {
     "data": {
      "text/html": [
       "\n",
       "  <div id=\"df-bf4dd265-6db2-4a85-93ed-20c3a09e3b4b\">\n",
       "    <div class=\"colab-df-container\">\n",
       "      <div>\n",
       "<style scoped>\n",
       "    .dataframe tbody tr th:only-of-type {\n",
       "        vertical-align: middle;\n",
       "    }\n",
       "\n",
       "    .dataframe tbody tr th {\n",
       "        vertical-align: top;\n",
       "    }\n",
       "\n",
       "    .dataframe thead th {\n",
       "        text-align: right;\n",
       "    }\n",
       "</style>\n",
       "<table border=\"1\" class=\"dataframe\">\n",
       "  <thead>\n",
       "    <tr style=\"text-align: right;\">\n",
       "      <th></th>\n",
       "      <th>No</th>\n",
       "      <th>Yes</th>\n",
       "    </tr>\n",
       "  </thead>\n",
       "  <tbody>\n",
       "    <tr>\n",
       "      <th>0</th>\n",
       "      <td>1</td>\n",
       "      <td>0</td>\n",
       "    </tr>\n",
       "    <tr>\n",
       "      <th>1</th>\n",
       "      <td>1</td>\n",
       "      <td>0</td>\n",
       "    </tr>\n",
       "    <tr>\n",
       "      <th>2</th>\n",
       "      <td>1</td>\n",
       "      <td>0</td>\n",
       "    </tr>\n",
       "    <tr>\n",
       "      <th>3</th>\n",
       "      <td>1</td>\n",
       "      <td>0</td>\n",
       "    </tr>\n",
       "    <tr>\n",
       "      <th>4</th>\n",
       "      <td>1</td>\n",
       "      <td>0</td>\n",
       "    </tr>\n",
       "    <tr>\n",
       "      <th>...</th>\n",
       "      <td>...</td>\n",
       "      <td>...</td>\n",
       "    </tr>\n",
       "    <tr>\n",
       "      <th>79</th>\n",
       "      <td>0</td>\n",
       "      <td>1</td>\n",
       "    </tr>\n",
       "    <tr>\n",
       "      <th>80</th>\n",
       "      <td>0</td>\n",
       "      <td>1</td>\n",
       "    </tr>\n",
       "    <tr>\n",
       "      <th>81</th>\n",
       "      <td>1</td>\n",
       "      <td>0</td>\n",
       "    </tr>\n",
       "    <tr>\n",
       "      <th>82</th>\n",
       "      <td>0</td>\n",
       "      <td>1</td>\n",
       "    </tr>\n",
       "    <tr>\n",
       "      <th>83</th>\n",
       "      <td>0</td>\n",
       "      <td>1</td>\n",
       "    </tr>\n",
       "  </tbody>\n",
       "</table>\n",
       "<p>84 rows × 2 columns</p>\n",
       "</div>\n",
       "      <button class=\"colab-df-convert\" onclick=\"convertToInteractive('df-bf4dd265-6db2-4a85-93ed-20c3a09e3b4b')\"\n",
       "              title=\"Convert this dataframe to an interactive table.\"\n",
       "              style=\"display:none;\">\n",
       "        \n",
       "  <svg xmlns=\"http://www.w3.org/2000/svg\" height=\"24px\"viewBox=\"0 0 24 24\"\n",
       "       width=\"24px\">\n",
       "    <path d=\"M0 0h24v24H0V0z\" fill=\"none\"/>\n",
       "    <path d=\"M18.56 5.44l.94 2.06.94-2.06 2.06-.94-2.06-.94-.94-2.06-.94 2.06-2.06.94zm-11 1L8.5 8.5l.94-2.06 2.06-.94-2.06-.94L8.5 2.5l-.94 2.06-2.06.94zm10 10l.94 2.06.94-2.06 2.06-.94-2.06-.94-.94-2.06-.94 2.06-2.06.94z\"/><path d=\"M17.41 7.96l-1.37-1.37c-.4-.4-.92-.59-1.43-.59-.52 0-1.04.2-1.43.59L10.3 9.45l-7.72 7.72c-.78.78-.78 2.05 0 2.83L4 21.41c.39.39.9.59 1.41.59.51 0 1.02-.2 1.41-.59l7.78-7.78 2.81-2.81c.8-.78.8-2.07 0-2.86zM5.41 20L4 18.59l7.72-7.72 1.47 1.35L5.41 20z\"/>\n",
       "  </svg>\n",
       "      </button>\n",
       "      \n",
       "  <style>\n",
       "    .colab-df-container {\n",
       "      display:flex;\n",
       "      flex-wrap:wrap;\n",
       "      gap: 12px;\n",
       "    }\n",
       "\n",
       "    .colab-df-convert {\n",
       "      background-color: #E8F0FE;\n",
       "      border: none;\n",
       "      border-radius: 50%;\n",
       "      cursor: pointer;\n",
       "      display: none;\n",
       "      fill: #1967D2;\n",
       "      height: 32px;\n",
       "      padding: 0 0 0 0;\n",
       "      width: 32px;\n",
       "    }\n",
       "\n",
       "    .colab-df-convert:hover {\n",
       "      background-color: #E2EBFA;\n",
       "      box-shadow: 0px 1px 2px rgba(60, 64, 67, 0.3), 0px 1px 3px 1px rgba(60, 64, 67, 0.15);\n",
       "      fill: #174EA6;\n",
       "    }\n",
       "\n",
       "    [theme=dark] .colab-df-convert {\n",
       "      background-color: #3B4455;\n",
       "      fill: #D2E3FC;\n",
       "    }\n",
       "\n",
       "    [theme=dark] .colab-df-convert:hover {\n",
       "      background-color: #434B5C;\n",
       "      box-shadow: 0px 1px 3px 1px rgba(0, 0, 0, 0.15);\n",
       "      filter: drop-shadow(0px 1px 2px rgba(0, 0, 0, 0.3));\n",
       "      fill: #FFFFFF;\n",
       "    }\n",
       "  </style>\n",
       "\n",
       "      <script>\n",
       "        const buttonEl =\n",
       "          document.querySelector('#df-bf4dd265-6db2-4a85-93ed-20c3a09e3b4b button.colab-df-convert');\n",
       "        buttonEl.style.display =\n",
       "          google.colab.kernel.accessAllowed ? 'block' : 'none';\n",
       "\n",
       "        async function convertToInteractive(key) {\n",
       "          const element = document.querySelector('#df-bf4dd265-6db2-4a85-93ed-20c3a09e3b4b');\n",
       "          const dataTable =\n",
       "            await google.colab.kernel.invokeFunction('convertToInteractive',\n",
       "                                                     [key], {});\n",
       "          if (!dataTable) return;\n",
       "\n",
       "          const docLinkHtml = 'Like what you see? Visit the ' +\n",
       "            '<a target=\"_blank\" href=https://colab.research.google.com/notebooks/data_table.ipynb>data table notebook</a>'\n",
       "            + ' to learn more about interactive tables.';\n",
       "          element.innerHTML = '';\n",
       "          dataTable['output_type'] = 'display_data';\n",
       "          await google.colab.output.renderOutput(dataTable, element);\n",
       "          const docLink = document.createElement('div');\n",
       "          docLink.innerHTML = docLinkHtml;\n",
       "          element.appendChild(docLink);\n",
       "        }\n",
       "      </script>\n",
       "    </div>\n",
       "  </div>\n",
       "  "
      ],
      "text/plain": [
       "    No  Yes\n",
       "0    1    0\n",
       "1    1    0\n",
       "2    1    0\n",
       "3    1    0\n",
       "4    1    0\n",
       "..  ..  ...\n",
       "79   0    1\n",
       "80   0    1\n",
       "81   1    0\n",
       "82   0    1\n",
       "83   0    1\n",
       "\n",
       "[84 rows x 2 columns]"
      ]
     },
     "execution_count": 85,
     "metadata": {},
     "output_type": "execute_result"
    }
   ],
   "source": [
    "# of form build-in\n",
    "\n",
    "dummies = pd.get_dummies(ddf['Attendance'])\n",
    "dummies"
   ]
  },
  {
   "cell_type": "code",
   "execution_count": null,
   "metadata": {
    "colab": {
     "base_uri": "https://localhost:8080/",
     "height": 424
    },
    "id": "XhKDqUpgy2uA",
    "outputId": "45b1d55f-9ef9-4cb1-b707-8dd7d2012fea"
   },
   "outputs": [
    {
     "data": {
      "text/html": [
       "\n",
       "  <div id=\"df-50d0e65e-60a2-44e6-bb72-e6713f61e544\">\n",
       "    <div class=\"colab-df-container\">\n",
       "      <div>\n",
       "<style scoped>\n",
       "    .dataframe tbody tr th:only-of-type {\n",
       "        vertical-align: middle;\n",
       "    }\n",
       "\n",
       "    .dataframe tbody tr th {\n",
       "        vertical-align: top;\n",
       "    }\n",
       "\n",
       "    .dataframe thead th {\n",
       "        text-align: right;\n",
       "    }\n",
       "</style>\n",
       "<table border=\"1\" class=\"dataframe\">\n",
       "  <thead>\n",
       "    <tr style=\"text-align: right;\">\n",
       "      <th></th>\n",
       "      <th>SAT</th>\n",
       "      <th>GPA</th>\n",
       "      <th>Attendance</th>\n",
       "      <th>dummies</th>\n",
       "    </tr>\n",
       "  </thead>\n",
       "  <tbody>\n",
       "    <tr>\n",
       "      <th>0</th>\n",
       "      <td>1714</td>\n",
       "      <td>2.40</td>\n",
       "      <td>No</td>\n",
       "      <td>0</td>\n",
       "    </tr>\n",
       "    <tr>\n",
       "      <th>1</th>\n",
       "      <td>1664</td>\n",
       "      <td>2.52</td>\n",
       "      <td>No</td>\n",
       "      <td>0</td>\n",
       "    </tr>\n",
       "    <tr>\n",
       "      <th>2</th>\n",
       "      <td>1760</td>\n",
       "      <td>2.54</td>\n",
       "      <td>No</td>\n",
       "      <td>0</td>\n",
       "    </tr>\n",
       "    <tr>\n",
       "      <th>3</th>\n",
       "      <td>1685</td>\n",
       "      <td>2.74</td>\n",
       "      <td>No</td>\n",
       "      <td>0</td>\n",
       "    </tr>\n",
       "    <tr>\n",
       "      <th>4</th>\n",
       "      <td>1693</td>\n",
       "      <td>2.83</td>\n",
       "      <td>No</td>\n",
       "      <td>0</td>\n",
       "    </tr>\n",
       "    <tr>\n",
       "      <th>...</th>\n",
       "      <td>...</td>\n",
       "      <td>...</td>\n",
       "      <td>...</td>\n",
       "      <td>...</td>\n",
       "    </tr>\n",
       "    <tr>\n",
       "      <th>79</th>\n",
       "      <td>1936</td>\n",
       "      <td>3.71</td>\n",
       "      <td>Yes</td>\n",
       "      <td>1</td>\n",
       "    </tr>\n",
       "    <tr>\n",
       "      <th>80</th>\n",
       "      <td>1810</td>\n",
       "      <td>3.71</td>\n",
       "      <td>Yes</td>\n",
       "      <td>1</td>\n",
       "    </tr>\n",
       "    <tr>\n",
       "      <th>81</th>\n",
       "      <td>1987</td>\n",
       "      <td>3.73</td>\n",
       "      <td>No</td>\n",
       "      <td>0</td>\n",
       "    </tr>\n",
       "    <tr>\n",
       "      <th>82</th>\n",
       "      <td>1962</td>\n",
       "      <td>3.76</td>\n",
       "      <td>Yes</td>\n",
       "      <td>1</td>\n",
       "    </tr>\n",
       "    <tr>\n",
       "      <th>83</th>\n",
       "      <td>2050</td>\n",
       "      <td>3.81</td>\n",
       "      <td>Yes</td>\n",
       "      <td>1</td>\n",
       "    </tr>\n",
       "  </tbody>\n",
       "</table>\n",
       "<p>84 rows × 4 columns</p>\n",
       "</div>\n",
       "      <button class=\"colab-df-convert\" onclick=\"convertToInteractive('df-50d0e65e-60a2-44e6-bb72-e6713f61e544')\"\n",
       "              title=\"Convert this dataframe to an interactive table.\"\n",
       "              style=\"display:none;\">\n",
       "        \n",
       "  <svg xmlns=\"http://www.w3.org/2000/svg\" height=\"24px\"viewBox=\"0 0 24 24\"\n",
       "       width=\"24px\">\n",
       "    <path d=\"M0 0h24v24H0V0z\" fill=\"none\"/>\n",
       "    <path d=\"M18.56 5.44l.94 2.06.94-2.06 2.06-.94-2.06-.94-.94-2.06-.94 2.06-2.06.94zm-11 1L8.5 8.5l.94-2.06 2.06-.94-2.06-.94L8.5 2.5l-.94 2.06-2.06.94zm10 10l.94 2.06.94-2.06 2.06-.94-2.06-.94-.94-2.06-.94 2.06-2.06.94z\"/><path d=\"M17.41 7.96l-1.37-1.37c-.4-.4-.92-.59-1.43-.59-.52 0-1.04.2-1.43.59L10.3 9.45l-7.72 7.72c-.78.78-.78 2.05 0 2.83L4 21.41c.39.39.9.59 1.41.59.51 0 1.02-.2 1.41-.59l7.78-7.78 2.81-2.81c.8-.78.8-2.07 0-2.86zM5.41 20L4 18.59l7.72-7.72 1.47 1.35L5.41 20z\"/>\n",
       "  </svg>\n",
       "      </button>\n",
       "      \n",
       "  <style>\n",
       "    .colab-df-container {\n",
       "      display:flex;\n",
       "      flex-wrap:wrap;\n",
       "      gap: 12px;\n",
       "    }\n",
       "\n",
       "    .colab-df-convert {\n",
       "      background-color: #E8F0FE;\n",
       "      border: none;\n",
       "      border-radius: 50%;\n",
       "      cursor: pointer;\n",
       "      display: none;\n",
       "      fill: #1967D2;\n",
       "      height: 32px;\n",
       "      padding: 0 0 0 0;\n",
       "      width: 32px;\n",
       "    }\n",
       "\n",
       "    .colab-df-convert:hover {\n",
       "      background-color: #E2EBFA;\n",
       "      box-shadow: 0px 1px 2px rgba(60, 64, 67, 0.3), 0px 1px 3px 1px rgba(60, 64, 67, 0.15);\n",
       "      fill: #174EA6;\n",
       "    }\n",
       "\n",
       "    [theme=dark] .colab-df-convert {\n",
       "      background-color: #3B4455;\n",
       "      fill: #D2E3FC;\n",
       "    }\n",
       "\n",
       "    [theme=dark] .colab-df-convert:hover {\n",
       "      background-color: #434B5C;\n",
       "      box-shadow: 0px 1px 3px 1px rgba(0, 0, 0, 0.15);\n",
       "      filter: drop-shadow(0px 1px 2px rgba(0, 0, 0, 0.3));\n",
       "      fill: #FFFFFF;\n",
       "    }\n",
       "  </style>\n",
       "\n",
       "      <script>\n",
       "        const buttonEl =\n",
       "          document.querySelector('#df-50d0e65e-60a2-44e6-bb72-e6713f61e544 button.colab-df-convert');\n",
       "        buttonEl.style.display =\n",
       "          google.colab.kernel.accessAllowed ? 'block' : 'none';\n",
       "\n",
       "        async function convertToInteractive(key) {\n",
       "          const element = document.querySelector('#df-50d0e65e-60a2-44e6-bb72-e6713f61e544');\n",
       "          const dataTable =\n",
       "            await google.colab.kernel.invokeFunction('convertToInteractive',\n",
       "                                                     [key], {});\n",
       "          if (!dataTable) return;\n",
       "\n",
       "          const docLinkHtml = 'Like what you see? Visit the ' +\n",
       "            '<a target=\"_blank\" href=https://colab.research.google.com/notebooks/data_table.ipynb>data table notebook</a>'\n",
       "            + ' to learn more about interactive tables.';\n",
       "          element.innerHTML = '';\n",
       "          dataTable['output_type'] = 'display_data';\n",
       "          await google.colab.output.renderOutput(dataTable, element);\n",
       "          const docLink = document.createElement('div');\n",
       "          docLink.innerHTML = docLinkHtml;\n",
       "          element.appendChild(docLink);\n",
       "        }\n",
       "      </script>\n",
       "    </div>\n",
       "  </div>\n",
       "  "
      ],
      "text/plain": [
       "     SAT   GPA Attendance  dummies\n",
       "0   1714  2.40         No        0\n",
       "1   1664  2.52         No        0\n",
       "2   1760  2.54         No        0\n",
       "3   1685  2.74         No        0\n",
       "4   1693  2.83         No        0\n",
       "..   ...   ...        ...      ...\n",
       "79  1936  3.71        Yes        1\n",
       "80  1810  3.71        Yes        1\n",
       "81  1987  3.73         No        0\n",
       "82  1962  3.76        Yes        1\n",
       "83  2050  3.81        Yes        1\n",
       "\n",
       "[84 rows x 4 columns]"
      ]
     },
     "execution_count": 86,
     "metadata": {},
     "output_type": "execute_result"
    }
   ],
   "source": [
    "# Using map\n",
    "\n",
    "ddf['dummies'] = ddf['Attendance'].map({'Yes':1, 'No':0})\n",
    "ddf"
   ]
  },
  {
   "cell_type": "markdown",
   "metadata": {
    "id": "wabYmTGyBaZy"
   },
   "source": [
    "# predictions"
   ]
  },
  {
   "cell_type": "code",
   "execution_count": null,
   "metadata": {
    "colab": {
     "base_uri": "https://localhost:8080/",
     "height": 112
    },
    "id": "QhOpLS67Bc4S",
    "outputId": "cad2822a-9484-4458-f083-8a247222ddad"
   },
   "outputs": [
    {
     "data": {
      "text/html": [
       "\n",
       "  <div id=\"df-8fefe726-0671-443f-8c80-752d59380c6b\">\n",
       "    <div class=\"colab-df-container\">\n",
       "      <div>\n",
       "<style scoped>\n",
       "    .dataframe tbody tr th:only-of-type {\n",
       "        vertical-align: middle;\n",
       "    }\n",
       "\n",
       "    .dataframe tbody tr th {\n",
       "        vertical-align: top;\n",
       "    }\n",
       "\n",
       "    .dataframe thead th {\n",
       "        text-align: right;\n",
       "    }\n",
       "</style>\n",
       "<table border=\"1\" class=\"dataframe\">\n",
       "  <thead>\n",
       "    <tr style=\"text-align: right;\">\n",
       "      <th></th>\n",
       "      <th>const</th>\n",
       "      <th>SAT</th>\n",
       "      <th>Attendance</th>\n",
       "    </tr>\n",
       "  </thead>\n",
       "  <tbody>\n",
       "    <tr>\n",
       "      <th>0</th>\n",
       "      <td>1</td>\n",
       "      <td>1700</td>\n",
       "      <td>0</td>\n",
       "    </tr>\n",
       "    <tr>\n",
       "      <th>1</th>\n",
       "      <td>1</td>\n",
       "      <td>1670</td>\n",
       "      <td>1</td>\n",
       "    </tr>\n",
       "  </tbody>\n",
       "</table>\n",
       "</div>\n",
       "      <button class=\"colab-df-convert\" onclick=\"convertToInteractive('df-8fefe726-0671-443f-8c80-752d59380c6b')\"\n",
       "              title=\"Convert this dataframe to an interactive table.\"\n",
       "              style=\"display:none;\">\n",
       "        \n",
       "  <svg xmlns=\"http://www.w3.org/2000/svg\" height=\"24px\"viewBox=\"0 0 24 24\"\n",
       "       width=\"24px\">\n",
       "    <path d=\"M0 0h24v24H0V0z\" fill=\"none\"/>\n",
       "    <path d=\"M18.56 5.44l.94 2.06.94-2.06 2.06-.94-2.06-.94-.94-2.06-.94 2.06-2.06.94zm-11 1L8.5 8.5l.94-2.06 2.06-.94-2.06-.94L8.5 2.5l-.94 2.06-2.06.94zm10 10l.94 2.06.94-2.06 2.06-.94-2.06-.94-.94-2.06-.94 2.06-2.06.94z\"/><path d=\"M17.41 7.96l-1.37-1.37c-.4-.4-.92-.59-1.43-.59-.52 0-1.04.2-1.43.59L10.3 9.45l-7.72 7.72c-.78.78-.78 2.05 0 2.83L4 21.41c.39.39.9.59 1.41.59.51 0 1.02-.2 1.41-.59l7.78-7.78 2.81-2.81c.8-.78.8-2.07 0-2.86zM5.41 20L4 18.59l7.72-7.72 1.47 1.35L5.41 20z\"/>\n",
       "  </svg>\n",
       "      </button>\n",
       "      \n",
       "  <style>\n",
       "    .colab-df-container {\n",
       "      display:flex;\n",
       "      flex-wrap:wrap;\n",
       "      gap: 12px;\n",
       "    }\n",
       "\n",
       "    .colab-df-convert {\n",
       "      background-color: #E8F0FE;\n",
       "      border: none;\n",
       "      border-radius: 50%;\n",
       "      cursor: pointer;\n",
       "      display: none;\n",
       "      fill: #1967D2;\n",
       "      height: 32px;\n",
       "      padding: 0 0 0 0;\n",
       "      width: 32px;\n",
       "    }\n",
       "\n",
       "    .colab-df-convert:hover {\n",
       "      background-color: #E2EBFA;\n",
       "      box-shadow: 0px 1px 2px rgba(60, 64, 67, 0.3), 0px 1px 3px 1px rgba(60, 64, 67, 0.15);\n",
       "      fill: #174EA6;\n",
       "    }\n",
       "\n",
       "    [theme=dark] .colab-df-convert {\n",
       "      background-color: #3B4455;\n",
       "      fill: #D2E3FC;\n",
       "    }\n",
       "\n",
       "    [theme=dark] .colab-df-convert:hover {\n",
       "      background-color: #434B5C;\n",
       "      box-shadow: 0px 1px 3px 1px rgba(0, 0, 0, 0.15);\n",
       "      filter: drop-shadow(0px 1px 2px rgba(0, 0, 0, 0.3));\n",
       "      fill: #FFFFFF;\n",
       "    }\n",
       "  </style>\n",
       "\n",
       "      <script>\n",
       "        const buttonEl =\n",
       "          document.querySelector('#df-8fefe726-0671-443f-8c80-752d59380c6b button.colab-df-convert');\n",
       "        buttonEl.style.display =\n",
       "          google.colab.kernel.accessAllowed ? 'block' : 'none';\n",
       "\n",
       "        async function convertToInteractive(key) {\n",
       "          const element = document.querySelector('#df-8fefe726-0671-443f-8c80-752d59380c6b');\n",
       "          const dataTable =\n",
       "            await google.colab.kernel.invokeFunction('convertToInteractive',\n",
       "                                                     [key], {});\n",
       "          if (!dataTable) return;\n",
       "\n",
       "          const docLinkHtml = 'Like what you see? Visit the ' +\n",
       "            '<a target=\"_blank\" href=https://colab.research.google.com/notebooks/data_table.ipynb>data table notebook</a>'\n",
       "            + ' to learn more about interactive tables.';\n",
       "          element.innerHTML = '';\n",
       "          dataTable['output_type'] = 'display_data';\n",
       "          await google.colab.output.renderOutput(dataTable, element);\n",
       "          const docLink = document.createElement('div');\n",
       "          docLink.innerHTML = docLinkHtml;\n",
       "          element.appendChild(docLink);\n",
       "        }\n",
       "      </script>\n",
       "    </div>\n",
       "  </div>\n",
       "  "
      ],
      "text/plain": [
       "   const   SAT  Attendance\n",
       "0      1  1700           0\n",
       "1      1  1670           1"
      ]
     },
     "execution_count": 87,
     "metadata": {},
     "output_type": "execute_result"
    }
   ],
   "source": [
    "# Create a new data frame, identical in organization to X.\n",
    "# The constant is always 1, while each of the lines corresponds to an observation (student)\n",
    "new_data = pd.DataFrame({'const': 1,'SAT': [1700, 1670], 'Attendance': [0, 1]})\n",
    "# By default, when you create a df (not load, but create), the columns are sorted alphabetically\n",
    "# So if we don't reorder them, they would be 'Attendance', 'const', 'SAT'\n",
    "# If you feed them in the wrong order, you will get wrong results!\n",
    "new_data = new_data[['const','SAT','Attendance']]\n",
    "new_data"
   ]
  },
  {
   "cell_type": "code",
   "execution_count": null,
   "metadata": {
    "colab": {
     "base_uri": "https://localhost:8080/",
     "height": 112
    },
    "id": "XLgfRbRIB3Lz",
    "outputId": "6a5c6ef3-7c5e-4500-8b51-121007c75dcc"
   },
   "outputs": [
    {
     "data": {
      "text/html": [
       "\n",
       "  <div id=\"df-b9ad7ad5-ec0b-473b-b923-366b547fb1c1\">\n",
       "    <div class=\"colab-df-container\">\n",
       "      <div>\n",
       "<style scoped>\n",
       "    .dataframe tbody tr th:only-of-type {\n",
       "        vertical-align: middle;\n",
       "    }\n",
       "\n",
       "    .dataframe tbody tr th {\n",
       "        vertical-align: top;\n",
       "    }\n",
       "\n",
       "    .dataframe thead th {\n",
       "        text-align: right;\n",
       "    }\n",
       "</style>\n",
       "<table border=\"1\" class=\"dataframe\">\n",
       "  <thead>\n",
       "    <tr style=\"text-align: right;\">\n",
       "      <th></th>\n",
       "      <th>const</th>\n",
       "      <th>SAT</th>\n",
       "      <th>Attendance</th>\n",
       "    </tr>\n",
       "  </thead>\n",
       "  <tbody>\n",
       "    <tr>\n",
       "      <th>Bob</th>\n",
       "      <td>1</td>\n",
       "      <td>1700</td>\n",
       "      <td>0</td>\n",
       "    </tr>\n",
       "    <tr>\n",
       "      <th>Alice</th>\n",
       "      <td>1</td>\n",
       "      <td>1670</td>\n",
       "      <td>1</td>\n",
       "    </tr>\n",
       "  </tbody>\n",
       "</table>\n",
       "</div>\n",
       "      <button class=\"colab-df-convert\" onclick=\"convertToInteractive('df-b9ad7ad5-ec0b-473b-b923-366b547fb1c1')\"\n",
       "              title=\"Convert this dataframe to an interactive table.\"\n",
       "              style=\"display:none;\">\n",
       "        \n",
       "  <svg xmlns=\"http://www.w3.org/2000/svg\" height=\"24px\"viewBox=\"0 0 24 24\"\n",
       "       width=\"24px\">\n",
       "    <path d=\"M0 0h24v24H0V0z\" fill=\"none\"/>\n",
       "    <path d=\"M18.56 5.44l.94 2.06.94-2.06 2.06-.94-2.06-.94-.94-2.06-.94 2.06-2.06.94zm-11 1L8.5 8.5l.94-2.06 2.06-.94-2.06-.94L8.5 2.5l-.94 2.06-2.06.94zm10 10l.94 2.06.94-2.06 2.06-.94-2.06-.94-.94-2.06-.94 2.06-2.06.94z\"/><path d=\"M17.41 7.96l-1.37-1.37c-.4-.4-.92-.59-1.43-.59-.52 0-1.04.2-1.43.59L10.3 9.45l-7.72 7.72c-.78.78-.78 2.05 0 2.83L4 21.41c.39.39.9.59 1.41.59.51 0 1.02-.2 1.41-.59l7.78-7.78 2.81-2.81c.8-.78.8-2.07 0-2.86zM5.41 20L4 18.59l7.72-7.72 1.47 1.35L5.41 20z\"/>\n",
       "  </svg>\n",
       "      </button>\n",
       "      \n",
       "  <style>\n",
       "    .colab-df-container {\n",
       "      display:flex;\n",
       "      flex-wrap:wrap;\n",
       "      gap: 12px;\n",
       "    }\n",
       "\n",
       "    .colab-df-convert {\n",
       "      background-color: #E8F0FE;\n",
       "      border: none;\n",
       "      border-radius: 50%;\n",
       "      cursor: pointer;\n",
       "      display: none;\n",
       "      fill: #1967D2;\n",
       "      height: 32px;\n",
       "      padding: 0 0 0 0;\n",
       "      width: 32px;\n",
       "    }\n",
       "\n",
       "    .colab-df-convert:hover {\n",
       "      background-color: #E2EBFA;\n",
       "      box-shadow: 0px 1px 2px rgba(60, 64, 67, 0.3), 0px 1px 3px 1px rgba(60, 64, 67, 0.15);\n",
       "      fill: #174EA6;\n",
       "    }\n",
       "\n",
       "    [theme=dark] .colab-df-convert {\n",
       "      background-color: #3B4455;\n",
       "      fill: #D2E3FC;\n",
       "    }\n",
       "\n",
       "    [theme=dark] .colab-df-convert:hover {\n",
       "      background-color: #434B5C;\n",
       "      box-shadow: 0px 1px 3px 1px rgba(0, 0, 0, 0.15);\n",
       "      filter: drop-shadow(0px 1px 2px rgba(0, 0, 0, 0.3));\n",
       "      fill: #FFFFFF;\n",
       "    }\n",
       "  </style>\n",
       "\n",
       "      <script>\n",
       "        const buttonEl =\n",
       "          document.querySelector('#df-b9ad7ad5-ec0b-473b-b923-366b547fb1c1 button.colab-df-convert');\n",
       "        buttonEl.style.display =\n",
       "          google.colab.kernel.accessAllowed ? 'block' : 'none';\n",
       "\n",
       "        async function convertToInteractive(key) {\n",
       "          const element = document.querySelector('#df-b9ad7ad5-ec0b-473b-b923-366b547fb1c1');\n",
       "          const dataTable =\n",
       "            await google.colab.kernel.invokeFunction('convertToInteractive',\n",
       "                                                     [key], {});\n",
       "          if (!dataTable) return;\n",
       "\n",
       "          const docLinkHtml = 'Like what you see? Visit the ' +\n",
       "            '<a target=\"_blank\" href=https://colab.research.google.com/notebooks/data_table.ipynb>data table notebook</a>'\n",
       "            + ' to learn more about interactive tables.';\n",
       "          element.innerHTML = '';\n",
       "          dataTable['output_type'] = 'display_data';\n",
       "          await google.colab.output.renderOutput(dataTable, element);\n",
       "          const docLink = document.createElement('div');\n",
       "          docLink.innerHTML = docLinkHtml;\n",
       "          element.appendChild(docLink);\n",
       "        }\n",
       "      </script>\n",
       "    </div>\n",
       "  </div>\n",
       "  "
      ],
      "text/plain": [
       "       const   SAT  Attendance\n",
       "Bob        1  1700           0\n",
       "Alice      1  1670           1"
      ]
     },
     "execution_count": 88,
     "metadata": {},
     "output_type": "execute_result"
    }
   ],
   "source": [
    "# I am renaming the indices for the purposes of this example.\n",
    "# That's by not really a good practice => I won't overwrite the variable.\n",
    "# If I want to use NumPy, sklearn, etc. methods on a df with renamed indices, they will simply be lost\n",
    "# and returned to 0,1,2,3, etc.\n",
    "new_data.rename(index={0: 'Bob',1:'Alice'})"
   ]
  },
  {
   "cell_type": "code",
   "execution_count": null,
   "metadata": {
    "colab": {
     "base_uri": "https://localhost:8080/"
    },
    "id": "pW2tWgcIB5gt",
    "outputId": "f168ab21-7219-4b73-b53a-9a043a31f550"
   },
   "outputs": [
    {
     "data": {
      "text/plain": [
       "0    3.107054\n",
       "1    3.049178\n",
       "dtype: float64"
      ]
     },
     "execution_count": 89,
     "metadata": {},
     "output_type": "execute_result"
    }
   ],
   "source": [
    "# Use the predict method on the regression with the new data as a single argument\n",
    "predictions = results.predict(new_data)\n",
    "# The result\n",
    "predictions"
   ]
  },
  {
   "cell_type": "code",
   "execution_count": null,
   "metadata": {
    "colab": {
     "base_uri": "https://localhost:8080/",
     "height": 112
    },
    "id": "yrzkZMyeB97J",
    "outputId": "b80f642e-9251-4a13-b45c-9f2408266b83"
   },
   "outputs": [
    {
     "data": {
      "text/html": [
       "\n",
       "  <div id=\"df-70823f61-0de4-44ac-85cf-916d719777d4\">\n",
       "    <div class=\"colab-df-container\">\n",
       "      <div>\n",
       "<style scoped>\n",
       "    .dataframe tbody tr th:only-of-type {\n",
       "        vertical-align: middle;\n",
       "    }\n",
       "\n",
       "    .dataframe tbody tr th {\n",
       "        vertical-align: top;\n",
       "    }\n",
       "\n",
       "    .dataframe thead th {\n",
       "        text-align: right;\n",
       "    }\n",
       "</style>\n",
       "<table border=\"1\" class=\"dataframe\">\n",
       "  <thead>\n",
       "    <tr style=\"text-align: right;\">\n",
       "      <th></th>\n",
       "      <th>const</th>\n",
       "      <th>SAT</th>\n",
       "      <th>Attendance</th>\n",
       "      <th>Predictions</th>\n",
       "    </tr>\n",
       "  </thead>\n",
       "  <tbody>\n",
       "    <tr>\n",
       "      <th>Bob</th>\n",
       "      <td>1</td>\n",
       "      <td>1700</td>\n",
       "      <td>0</td>\n",
       "      <td>3.107054</td>\n",
       "    </tr>\n",
       "    <tr>\n",
       "      <th>Alice</th>\n",
       "      <td>1</td>\n",
       "      <td>1670</td>\n",
       "      <td>1</td>\n",
       "      <td>3.049178</td>\n",
       "    </tr>\n",
       "  </tbody>\n",
       "</table>\n",
       "</div>\n",
       "      <button class=\"colab-df-convert\" onclick=\"convertToInteractive('df-70823f61-0de4-44ac-85cf-916d719777d4')\"\n",
       "              title=\"Convert this dataframe to an interactive table.\"\n",
       "              style=\"display:none;\">\n",
       "        \n",
       "  <svg xmlns=\"http://www.w3.org/2000/svg\" height=\"24px\"viewBox=\"0 0 24 24\"\n",
       "       width=\"24px\">\n",
       "    <path d=\"M0 0h24v24H0V0z\" fill=\"none\"/>\n",
       "    <path d=\"M18.56 5.44l.94 2.06.94-2.06 2.06-.94-2.06-.94-.94-2.06-.94 2.06-2.06.94zm-11 1L8.5 8.5l.94-2.06 2.06-.94-2.06-.94L8.5 2.5l-.94 2.06-2.06.94zm10 10l.94 2.06.94-2.06 2.06-.94-2.06-.94-.94-2.06-.94 2.06-2.06.94z\"/><path d=\"M17.41 7.96l-1.37-1.37c-.4-.4-.92-.59-1.43-.59-.52 0-1.04.2-1.43.59L10.3 9.45l-7.72 7.72c-.78.78-.78 2.05 0 2.83L4 21.41c.39.39.9.59 1.41.59.51 0 1.02-.2 1.41-.59l7.78-7.78 2.81-2.81c.8-.78.8-2.07 0-2.86zM5.41 20L4 18.59l7.72-7.72 1.47 1.35L5.41 20z\"/>\n",
       "  </svg>\n",
       "      </button>\n",
       "      \n",
       "  <style>\n",
       "    .colab-df-container {\n",
       "      display:flex;\n",
       "      flex-wrap:wrap;\n",
       "      gap: 12px;\n",
       "    }\n",
       "\n",
       "    .colab-df-convert {\n",
       "      background-color: #E8F0FE;\n",
       "      border: none;\n",
       "      border-radius: 50%;\n",
       "      cursor: pointer;\n",
       "      display: none;\n",
       "      fill: #1967D2;\n",
       "      height: 32px;\n",
       "      padding: 0 0 0 0;\n",
       "      width: 32px;\n",
       "    }\n",
       "\n",
       "    .colab-df-convert:hover {\n",
       "      background-color: #E2EBFA;\n",
       "      box-shadow: 0px 1px 2px rgba(60, 64, 67, 0.3), 0px 1px 3px 1px rgba(60, 64, 67, 0.15);\n",
       "      fill: #174EA6;\n",
       "    }\n",
       "\n",
       "    [theme=dark] .colab-df-convert {\n",
       "      background-color: #3B4455;\n",
       "      fill: #D2E3FC;\n",
       "    }\n",
       "\n",
       "    [theme=dark] .colab-df-convert:hover {\n",
       "      background-color: #434B5C;\n",
       "      box-shadow: 0px 1px 3px 1px rgba(0, 0, 0, 0.15);\n",
       "      filter: drop-shadow(0px 1px 2px rgba(0, 0, 0, 0.3));\n",
       "      fill: #FFFFFF;\n",
       "    }\n",
       "  </style>\n",
       "\n",
       "      <script>\n",
       "        const buttonEl =\n",
       "          document.querySelector('#df-70823f61-0de4-44ac-85cf-916d719777d4 button.colab-df-convert');\n",
       "        buttonEl.style.display =\n",
       "          google.colab.kernel.accessAllowed ? 'block' : 'none';\n",
       "\n",
       "        async function convertToInteractive(key) {\n",
       "          const element = document.querySelector('#df-70823f61-0de4-44ac-85cf-916d719777d4');\n",
       "          const dataTable =\n",
       "            await google.colab.kernel.invokeFunction('convertToInteractive',\n",
       "                                                     [key], {});\n",
       "          if (!dataTable) return;\n",
       "\n",
       "          const docLinkHtml = 'Like what you see? Visit the ' +\n",
       "            '<a target=\"_blank\" href=https://colab.research.google.com/notebooks/data_table.ipynb>data table notebook</a>'\n",
       "            + ' to learn more about interactive tables.';\n",
       "          element.innerHTML = '';\n",
       "          dataTable['output_type'] = 'display_data';\n",
       "          await google.colab.output.renderOutput(dataTable, element);\n",
       "          const docLink = document.createElement('div');\n",
       "          docLink.innerHTML = docLinkHtml;\n",
       "          element.appendChild(docLink);\n",
       "        }\n",
       "      </script>\n",
       "    </div>\n",
       "  </div>\n",
       "  "
      ],
      "text/plain": [
       "       const   SAT  Attendance  Predictions\n",
       "Bob        1  1700           0     3.107054\n",
       "Alice      1  1670           1     3.049178"
      ]
     },
     "execution_count": 90,
     "metadata": {},
     "output_type": "execute_result"
    }
   ],
   "source": [
    "# If we want we can create a data frame, including everything\n",
    "predictionsdf = pd.DataFrame({'Predictions':predictions})\n",
    "# Join the two data frames\n",
    "joined = new_data.join(predictionsdf)\n",
    "# Rename the indices as before (not a good practice in general) \n",
    "joined.rename(index={0: 'Bob',1:'Alice'})"
   ]
  },
  {
   "cell_type": "markdown",
   "metadata": {
    "id": "2HEgFuRGDvsg"
   },
   "source": [
    "# Using sklearn\n",
    "It is important to use **sklearn**, although **statmodels** is quite efficient to generate the linear regression model, it is important to know that **statmodels** is more used for teaching purposes, while **sklearn** is much more professional."
   ]
  },
  {
   "cell_type": "code",
   "execution_count": null,
   "metadata": {
    "id": "AN6OFW7YD2n5"
   },
   "outputs": [],
   "source": [
    "import pandas as pd\n",
    "import numpy as np\n",
    "import matplotlib.pyplot as plt\n",
    "import seaborn as sns\n",
    "from sklearn.linear_model import LinearRegression\n",
    "sns.set()"
   ]
  },
  {
   "cell_type": "code",
   "execution_count": null,
   "metadata": {
    "colab": {
     "base_uri": "https://localhost:8080/"
    },
    "id": "5w78-LPfgSSN",
    "outputId": "bf2325e0-3a26-4ea3-a5fb-aae0bcc029b8"
   },
   "outputs": [
    {
     "data": {
      "text/plain": [
       "LinearRegression()"
      ]
     },
     "execution_count": 92,
     "metadata": {},
     "output_type": "execute_result"
    }
   ],
   "source": [
    "reg = LinearRegression()\n",
    "reg.fit(data[['SAT', 'Rand 1,2,3']], data['GPA'])"
   ]
  },
  {
   "cell_type": "markdown",
   "metadata": {
    "id": "CEvR4YSjg6ob"
   },
   "source": [
    "## coef_\n",
    "Returns the coefficients of the linear regression."
   ]
  },
  {
   "cell_type": "code",
   "execution_count": null,
   "metadata": {
    "colab": {
     "base_uri": "https://localhost:8080/"
    },
    "id": "lOEjLDsdg8wg",
    "outputId": "f89b1a52-ddfc-466e-b7a4-bffa2db67620"
   },
   "outputs": [
    {
     "data": {
      "text/plain": [
       "array([ 0.00165354, -0.00826982])"
      ]
     },
     "execution_count": 93,
     "metadata": {},
     "output_type": "execute_result"
    }
   ],
   "source": [
    "reg.coef_"
   ]
  },
  {
   "cell_type": "markdown",
   "metadata": {
    "id": "wlFRgHSohJsl"
   },
   "source": [
    "## intercept_\n",
    "Returns the intercept of the linear regression."
   ]
  },
  {
   "cell_type": "code",
   "execution_count": null,
   "metadata": {
    "colab": {
     "base_uri": "https://localhost:8080/"
    },
    "id": "qndiN7mthREC",
    "outputId": "d81e5fe0-2ad4-4632-e74d-939a49c9354d"
   },
   "outputs": [
    {
     "data": {
      "text/plain": [
       "0.29603261264909486"
      ]
     },
     "execution_count": 94,
     "metadata": {},
     "output_type": "execute_result"
    }
   ],
   "source": [
    "reg.intercept_"
   ]
  },
  {
   "cell_type": "markdown",
   "metadata": {
    "id": "sZsGGDRbhtlC"
   },
   "source": [
    "## score\n",
    "Returns the value equivalent to **r squared**."
   ]
  },
  {
   "cell_type": "code",
   "execution_count": null,
   "metadata": {
    "colab": {
     "base_uri": "https://localhost:8080/"
    },
    "id": "oMovMzcVhzJj",
    "outputId": "cde42ab1-3132-4bf7-a3e6-e26bb8736890"
   },
   "outputs": [
    {
     "data": {
      "text/plain": [
       "0.4066811952814283"
      ]
     },
     "execution_count": 95,
     "metadata": {},
     "output_type": "execute_result"
    }
   ],
   "source": [
    "reg.score(data[['SAT', 'Rand 1,2,3']], data['GPA'])"
   ]
  },
  {
   "cell_type": "markdown",
   "metadata": {
    "id": "s8xEPHzXiY0T"
   },
   "source": [
    "## Adjusted R squared\n",
    "When using multiple linear regression it is also necessary to use an **adjusted r squared** that penalizes the number of variables used so that it allows us to know if increasing variables helped the model or made it worse. The following function uses the parameters **'n'(total number of items in the 'X')**, **'p'(number of independent variables)** and **'r'(r squared)** .\n",
    "$$R^2_{adj.} = 1 - (1-R^2)*\\frac{n-1}{n-p-1}$$"
   ]
  },
  {
   "cell_type": "code",
   "execution_count": null,
   "metadata": {
    "colab": {
     "base_uri": "https://localhost:8080/"
    },
    "id": "ScLsVpImiYU9",
    "outputId": "169d6824-4361-43be-8ccb-9d1d80ea17d2"
   },
   "outputs": [
    {
     "data": {
      "text/plain": [
       "0.3920313482513401"
      ]
     },
     "execution_count": 96,
     "metadata": {},
     "output_type": "execute_result"
    }
   ],
   "source": [
    "def rTight(n, p, r):\n",
    "\n",
    "     result = 1-(1-r)*(n-1)/(n-p-1)\n",
    "\n",
    "     return result\n",
    "\n",
    "# In this case the fitted r is less than r so that one or more variables have\n",
    "# Minimal or no relationship with the dependent variable.\n",
    "# Thus impoverishing the model\n",
    "\n",
    "rTight(84, 2, reg.score(data[['SAT', 'Rand 1,2,3']], data['GPA']))"
   ]
  },
  {
   "cell_type": "markdown",
   "metadata": {
    "id": "HIrlTjlpn0wO"
   },
   "source": [
    "## f_regression\n",
    "This is the **f** statistic, but in the case of **sklearn** unlike **statmodels**, **sklearn** creates a regression line for each independent variable, so it is possible to apply the **f** test on each variable. **f_regression** returns two arrays, one corresponding to the **f** statistic and the other to the corresponding **p** value of the statistic."
   ]
  },
  {
   "cell_type": "code",
   "execution_count": null,
   "metadata": {
    "colab": {
     "base_uri": "https://localhost:8080/"
    },
    "id": "p6-H9IfroSpr",
    "outputId": "301f47b1-39e2-4266-df13-138b1e80b9e8"
   },
   "outputs": [
    {
     "name": "stdout",
     "output_type": "stream",
     "text": [
      "[56.04804786  0.17558437]\n",
      "[0.     0.6763]\n"
     ]
    }
   ],
   "source": [
    "from sklearn.feature_selection import f_regression\n",
    "\n",
    "f, p = f_regression(data[['SAT', 'Rand 1,2,3']], data['GPA'])\n",
    "\n",
    "print(f)\n",
    "\n",
    "# Notese que el segundo valor p es de lejos mayor a 0.05, de modo que la segunda variable no es util.\n",
    "\n",
    "print(p.round(4))"
   ]
  },
  {
   "cell_type": "markdown",
   "metadata": {
    "id": "qL_PgfRZs62H"
   },
   "source": [
    "## Standardization\n",
    "When working with very unequal data, it is necessary to standardize them. Imagine that you have the following transaction data:\n",
    "\n",
    "```\n",
    "╒═══════╤═══════════════════╤═══════════╕\n",
    "│ Day │ Rate of change │ Volume │\n",
    "╞═══════╪═══════════════════╪═══════════╡\n",
    "│ 1 │ 1.3 │ 110000 │\n",
    "├───────┼───────────────────┼───────────┤\n",
    "│ 2 │ 1.34 │ 98700 │\n",
    "├───────┼───────────────────┼───────────┤\n",
    "│ 3 │ 1.25 │ 135000 │\n",
    "╘═══════╧═══════════════════╧═══════════╛\n",
    "```\n",
    "There is a big difference between **\"rate of change\"** and **\"volume\"**, so once this is converted to **z-points** it becomes:\n",
    "\n",
    "```\n",
    "╒═══════╤═══════════════════╤═══════════╕\n",
    "│ Day │ Rate of change │ Volume │\n",
    "╞═══════╪═══════════════════╪═══════════╡\n",
    "│1 │0.07 │ -0.25 │\n",
    "├───────┼───────────────────┼───────────┤\n",
    "│2 │0.96 │ -0.85 │\n",
    "├───────┼───────────────────┼───────────┤\n",
    "│3 │ -1.03 │ 1.1 │\n",
    "╘═══════╧═══════════════════╧═══════════╛\n",
    "```\n",
    "This table has obviously more even and readable data."
   ]
  },
  {
   "cell_type": "code",
   "execution_count": null,
   "metadata": {
    "id": "h3ENfoyDtHXI"
   },
   "outputs": [],
   "source": [
    "from sklearn.preprocessing import StandardScaler\n",
    "\n",
    "# Note that the values in x are standardized\n",
    "\n",
    "scaler = StandardScaler()\n",
    "x_scaled = scaler.fit_transform(data[['SAT', 'Rand 1,2,3']])"
   ]
  },
  {
   "cell_type": "code",
   "execution_count": null,
   "metadata": {
    "colab": {
     "base_uri": "https://localhost:8080/"
    },
    "id": "UqtJZ7jn0Uy7",
    "outputId": "1d821b83-9c42-4e82-c024-7b9148454283"
   },
   "outputs": [
    {
     "name": "stdout",
     "output_type": "stream",
     "text": [
      "╒════════════╤════════════════════╤═════════════════════╕\n",
      "│            │   Sin estandarizar │   Con estandarizado │\n",
      "╞════════════╪════════════════════╪═════════════════════╡\n",
      "│ SAT        │         0.00165354 │          0.171814   │\n",
      "├────────────┼────────────────────┼─────────────────────┤\n",
      "│ Rand 1,2,3 │        -0.00826982 │         -0.00703007 │\n",
      "╘════════════╧════════════════════╧═════════════════════╛\n"
     ]
    }
   ],
   "source": [
    "from tabulate import tabulate\n",
    "\n",
    "reg_scaled = LinearRegression()\n",
    "reg_scaled.fit(x_scaled, data['GPA'])\n",
    "\n",
    "scaled_coefs = {'Without standardized': reg.coef_, 'With standardized': reg_scaled.coef_}\n",
    "\n",
    "# Note that after doing the standardization it is easier to tell which variables are more useful.\n",
    "# Since the difference is more noticeable, being Rand 1,2,3 the less influential variable.\n",
    "\n",
    "print(tabulate(scaled_coefs, tablefmt='fancy_grid', headers= scaled_coefs.keys(), showindex=['SAT', 'Rand 1,2,3']))"
   ]
  },
  {
   "cell_type": "markdown",
   "metadata": {
    "id": "d_mUr-R55gyw"
   },
   "source": [
    "## Predictions with standardized data"
   ]
  },
  {
   "cell_type": "code",
   "execution_count": null,
   "metadata": {
    "colab": {
     "base_uri": "https://localhost:8080/",
     "height": 112
    },
    "id": "i4SFagwg5dwQ",
    "outputId": "6bac38c8-b5cc-40a5-eca4-1d72afeb7c40"
   },
   "outputs": [
    {
     "data": {
      "text/html": [
       "\n",
       "  <div id=\"df-85aa970c-48a5-4495-aed8-35d942149898\">\n",
       "    <div class=\"colab-df-container\">\n",
       "      <div>\n",
       "<style scoped>\n",
       "    .dataframe tbody tr th:only-of-type {\n",
       "        vertical-align: middle;\n",
       "    }\n",
       "\n",
       "    .dataframe tbody tr th {\n",
       "        vertical-align: top;\n",
       "    }\n",
       "\n",
       "    .dataframe thead th {\n",
       "        text-align: right;\n",
       "    }\n",
       "</style>\n",
       "<table border=\"1\" class=\"dataframe\">\n",
       "  <thead>\n",
       "    <tr style=\"text-align: right;\">\n",
       "      <th></th>\n",
       "      <th>SAT</th>\n",
       "      <th>Rand 1,2,3</th>\n",
       "    </tr>\n",
       "  </thead>\n",
       "  <tbody>\n",
       "    <tr>\n",
       "      <th>0</th>\n",
       "      <td>1700</td>\n",
       "      <td>2</td>\n",
       "    </tr>\n",
       "    <tr>\n",
       "      <th>1</th>\n",
       "      <td>1800</td>\n",
       "      <td>1</td>\n",
       "    </tr>\n",
       "  </tbody>\n",
       "</table>\n",
       "</div>\n",
       "      <button class=\"colab-df-convert\" onclick=\"convertToInteractive('df-85aa970c-48a5-4495-aed8-35d942149898')\"\n",
       "              title=\"Convert this dataframe to an interactive table.\"\n",
       "              style=\"display:none;\">\n",
       "        \n",
       "  <svg xmlns=\"http://www.w3.org/2000/svg\" height=\"24px\"viewBox=\"0 0 24 24\"\n",
       "       width=\"24px\">\n",
       "    <path d=\"M0 0h24v24H0V0z\" fill=\"none\"/>\n",
       "    <path d=\"M18.56 5.44l.94 2.06.94-2.06 2.06-.94-2.06-.94-.94-2.06-.94 2.06-2.06.94zm-11 1L8.5 8.5l.94-2.06 2.06-.94-2.06-.94L8.5 2.5l-.94 2.06-2.06.94zm10 10l.94 2.06.94-2.06 2.06-.94-2.06-.94-.94-2.06-.94 2.06-2.06.94z\"/><path d=\"M17.41 7.96l-1.37-1.37c-.4-.4-.92-.59-1.43-.59-.52 0-1.04.2-1.43.59L10.3 9.45l-7.72 7.72c-.78.78-.78 2.05 0 2.83L4 21.41c.39.39.9.59 1.41.59.51 0 1.02-.2 1.41-.59l7.78-7.78 2.81-2.81c.8-.78.8-2.07 0-2.86zM5.41 20L4 18.59l7.72-7.72 1.47 1.35L5.41 20z\"/>\n",
       "  </svg>\n",
       "      </button>\n",
       "      \n",
       "  <style>\n",
       "    .colab-df-container {\n",
       "      display:flex;\n",
       "      flex-wrap:wrap;\n",
       "      gap: 12px;\n",
       "    }\n",
       "\n",
       "    .colab-df-convert {\n",
       "      background-color: #E8F0FE;\n",
       "      border: none;\n",
       "      border-radius: 50%;\n",
       "      cursor: pointer;\n",
       "      display: none;\n",
       "      fill: #1967D2;\n",
       "      height: 32px;\n",
       "      padding: 0 0 0 0;\n",
       "      width: 32px;\n",
       "    }\n",
       "\n",
       "    .colab-df-convert:hover {\n",
       "      background-color: #E2EBFA;\n",
       "      box-shadow: 0px 1px 2px rgba(60, 64, 67, 0.3), 0px 1px 3px 1px rgba(60, 64, 67, 0.15);\n",
       "      fill: #174EA6;\n",
       "    }\n",
       "\n",
       "    [theme=dark] .colab-df-convert {\n",
       "      background-color: #3B4455;\n",
       "      fill: #D2E3FC;\n",
       "    }\n",
       "\n",
       "    [theme=dark] .colab-df-convert:hover {\n",
       "      background-color: #434B5C;\n",
       "      box-shadow: 0px 1px 3px 1px rgba(0, 0, 0, 0.15);\n",
       "      filter: drop-shadow(0px 1px 2px rgba(0, 0, 0, 0.3));\n",
       "      fill: #FFFFFF;\n",
       "    }\n",
       "  </style>\n",
       "\n",
       "      <script>\n",
       "        const buttonEl =\n",
       "          document.querySelector('#df-85aa970c-48a5-4495-aed8-35d942149898 button.colab-df-convert');\n",
       "        buttonEl.style.display =\n",
       "          google.colab.kernel.accessAllowed ? 'block' : 'none';\n",
       "\n",
       "        async function convertToInteractive(key) {\n",
       "          const element = document.querySelector('#df-85aa970c-48a5-4495-aed8-35d942149898');\n",
       "          const dataTable =\n",
       "            await google.colab.kernel.invokeFunction('convertToInteractive',\n",
       "                                                     [key], {});\n",
       "          if (!dataTable) return;\n",
       "\n",
       "          const docLinkHtml = 'Like what you see? Visit the ' +\n",
       "            '<a target=\"_blank\" href=https://colab.research.google.com/notebooks/data_table.ipynb>data table notebook</a>'\n",
       "            + ' to learn more about interactive tables.';\n",
       "          element.innerHTML = '';\n",
       "          dataTable['output_type'] = 'display_data';\n",
       "          await google.colab.output.renderOutput(dataTable, element);\n",
       "          const docLink = document.createElement('div');\n",
       "          docLink.innerHTML = docLinkHtml;\n",
       "          element.appendChild(docLink);\n",
       "        }\n",
       "      </script>\n",
       "    </div>\n",
       "  </div>\n",
       "  "
      ],
      "text/plain": [
       "    SAT  Rand 1,2,3\n",
       "0  1700           2\n",
       "1  1800           1"
      ]
     },
     "execution_count": 100,
     "metadata": {},
     "output_type": "execute_result"
    }
   ],
   "source": [
    "# Data is created to generate predictions.\n",
    "\n",
    "new_data = pd.DataFrame(data=[[1700,2],[1800,1]],columns=['SAT','Rand 1,2,3'])\n",
    "new_data"
   ]
  },
  {
   "cell_type": "code",
   "execution_count": null,
   "metadata": {
    "colab": {
     "base_uri": "https://localhost:8080/"
    },
    "id": "gi5tPsxb5p83",
    "outputId": "ba87f687-3bda-41e3-d5f3-da2eb0265004"
   },
   "outputs": [
    {
     "name": "stdout",
     "output_type": "stream",
     "text": [
      "╒═══════════════════════╤═══════════════════════╕\n",
      "│   Sin estandarizacion │   Con estandarizacion │\n",
      "╞═══════════════════════╪═══════════════════════╡\n",
      "│               3.09051 │               295.4   │\n",
      "├───────────────────────┼───────────────────────┤\n",
      "│               3.26414 │               312.588 │\n",
      "╘═══════════════════════╧═══════════════════════╛\n"
     ]
    },
    {
     "name": "stderr",
     "output_type": "stream",
     "text": [
      "/usr/local/lib/python3.7/dist-packages/sklearn/base.py:444: UserWarning: X has feature names, but LinearRegression was fitted without feature names\n",
      "  f\"X has feature names, but {self.__class__.__name__} was fitted without\"\n"
     ]
    }
   ],
   "source": [
    "# Comparison between the model with standardization and without standardization.\n",
    "\n",
    "from tabulate import tabulate\n",
    "\n",
    "model_contrast = {'No standardization': reg.predict(new_data),\n",
    "                 'With standardization': reg_scaled.predict(new_data)}\n",
    "\n",
    "# Note that both predictions are different.\n",
    "# The prediction with standardization is even illogical.\n",
    "\n",
    "print(tabulate(model_contrast, tablefmt='fancy_grid', headers=model_contrast.keys()))"
   ]
  },
  {
   "cell_type": "code",
   "execution_count": null,
   "metadata": {
    "colab": {
     "base_uri": "https://localhost:8080/"
    },
    "id": "1NfTXJRz6w9G",
    "outputId": "1be24dda-f555-4895-f7b9-ecb343651e95"
   },
   "outputs": [
    {
     "name": "stdout",
     "output_type": "stream",
     "text": [
      "╒═══════════════════════╤═══════════════════════╕\n",
      "│   Sin estandarizacion │   Con estandarizacion │\n",
      "╞═══════════════════════╪═══════════════════════╡\n",
      "│               3.09051 │               3.09051 │\n",
      "├───────────────────────┼───────────────────────┤\n",
      "│               3.26414 │               3.26414 │\n",
      "╘═══════════════════════╧═══════════════════════╛\n"
     ]
    }
   ],
   "source": [
    "# It is necessary to use transform instead of fit_transform since the initial fit must be used.\n",
    "\n",
    "new_data_scaled = scaler.transform(new_data)\n",
    "\n",
    "model_contrast_scaled = {'No standardization': reg.predict(new_data),\n",
    "                 'With standardization': reg_scaled.predict(new_data_scaled)}\n",
    "\n",
    "# To have the same result it is necessary to use standardized data.\n",
    "\n",
    "print(tabulate(model_contrast_scaled, tablefmt='fancy_grid', headers=model_contrast.keys()))"
   ]
  },
  {
   "cell_type": "code",
   "execution_count": null,
   "metadata": {
    "colab": {
     "base_uri": "https://localhost:8080/"
    },
    "id": "MR1b_xRA8HJ2",
    "outputId": "2673fd52-e0b0-4736-d823-8705d551fbcd"
   },
   "outputs": [
    {
     "name": "stdout",
     "output_type": "stream",
     "text": [
      "╒════════════════════════════════════════╤════════════════════════════════════════╕\n",
      "│   Sin estandarizacion y con Rand 1,2,3 │   Con estandarizacion y sin Rand 1,2,3 │\n",
      "╞════════════════════════════════════════╪════════════════════════════════════════╡\n",
      "│                                3.09051 │                                3.08971 │\n",
      "├────────────────────────────────────────┼────────────────────────────────────────┤\n",
      "│                                3.26414 │                                3.25528 │\n",
      "╘════════════════════════════════════════╧════════════════════════════════════════╛\n"
     ]
    }
   ],
   "source": [
    "# The regression is presented removing the variable Rand 1,2,3.\n",
    "\n",
    "simple_reg = LinearRegression()\n",
    "x_simple_matrix = x_scaled[:,0].reshape(-1,1)\n",
    "reg_simple.fit(x_simple_matrix,y)\n",
    "\n",
    "contrast_without= {'Without standardization and with Rand 1,2,3': reg.predict(new_data),\n",
    "                 'With standardization and without Rand 1,2,3': reg_simple.predict(new_data_scaled[:,0].reshape(-1,1))}\n",
    "\n",
    "# Note that once standardized by removing the variable Rand 1,2,3 which is not very influential\n",
    "# There is a difference of only decimals, so when standardizing on having or not having a variable\n",
    "# Little influential becomes less damaging to the model\n",
    "\n",
    "print(tabulate(contrast_without, tablefmt='fancy_grid', headers=contrast_without.keys()))           "
   ]
  },
  {
   "cell_type": "markdown",
   "metadata": {
    "id": "K6e7AaWV9aeG"
   },
   "source": [
    "# Underfitting y Overfitting"
   ]
  },
  {
   "cell_type": "markdown",
   "metadata": {
    "id": "awfbMPqZ9qvf"
   },
   "source": [
    "## Underfitting\n",
    "It happens when the line does not capture the logic of the model and therefore has no predictive use. In this case it can be deduced that there is no relationship or that the model used is not adequate."
   ]
  },
  {
   "cell_type": "markdown",
   "metadata": {
    "id": "MYjS7bZ990lO"
   },
   "source": [
    "## Overfitting\n",
    "It happens when the model works very well with the test data but it does not work to predict."
   ]
  },
  {
   "cell_type": "markdown",
   "metadata": {
    "id": "CkN3xDquBOYF"
   },
   "source": [
    "# Data separation\n",
    "In order to build a reliable model and avoid **underfitting** or **overfitting**, it is necessary to separate the data into two groups, **test** and **train**, one for training and the other for testing."
   ]
  },
  {
   "cell_type": "code",
   "execution_count": null,
   "metadata": {
    "colab": {
     "base_uri": "https://localhost:8080/"
    },
    "id": "zxDqi72PBXTW",
    "outputId": "d69b1ec1-af62-4b23-8d90-fbf53d40b094"
   },
   "outputs": [
    {
     "name": "stdout",
     "output_type": "stream",
     "text": [
      "╒═══════════╤══════════╤═══════════╤══════════╕\n",
      "│   a_train │   a_test │   b_train │   b_test │\n",
      "╞═══════════╪══════════╪═══════════╪══════════╡\n",
      "│        56 │       84 │       556 │      584 │\n",
      "├───────────┼──────────┼───────────┼──────────┤\n",
      "│        89 │       54 │       589 │      554 │\n",
      "├───────────┼──────────┼───────────┼──────────┤\n",
      "│        27 │       71 │       527 │      571 │\n",
      "├───────────┼──────────┼───────────┼──────────┤\n",
      "│        43 │       46 │       543 │      546 │\n",
      "├───────────┼──────────┼───────────┼──────────┤\n",
      "│        70 │       45 │       570 │      545 │\n",
      "├───────────┼──────────┼───────────┼──────────┤\n",
      "│        16 │       40 │       516 │      540 │\n",
      "├───────────┼──────────┼───────────┼──────────┤\n",
      "│        41 │       23 │       541 │      523 │\n",
      "├───────────┼──────────┼───────────┼──────────┤\n",
      "│        97 │       81 │       597 │      581 │\n",
      "├───────────┼──────────┼───────────┼──────────┤\n",
      "│        10 │       11 │       510 │      511 │\n",
      "├───────────┼──────────┼───────────┼──────────┤\n",
      "│        73 │        1 │       573 │      501 │\n",
      "├───────────┼──────────┼───────────┼──────────┤\n",
      "│        12 │       19 │       512 │      519 │\n",
      "├───────────┼──────────┼───────────┼──────────┤\n",
      "│        48 │       31 │       548 │      531 │\n",
      "├───────────┼──────────┼───────────┼──────────┤\n",
      "│        86 │       74 │       586 │      574 │\n",
      "├───────────┼──────────┼───────────┼──────────┤\n",
      "│        29 │       34 │       529 │      534 │\n",
      "├───────────┼──────────┼───────────┼──────────┤\n",
      "│        94 │       91 │       594 │      591 │\n",
      "├───────────┼──────────┼───────────┼──────────┤\n",
      "│         6 │        5 │       506 │      505 │\n",
      "├───────────┼──────────┼───────────┼──────────┤\n",
      "│        67 │       77 │       567 │      577 │\n",
      "├───────────┼──────────┼───────────┼──────────┤\n",
      "│        66 │       78 │       566 │      578 │\n",
      "├───────────┼──────────┼───────────┼──────────┤\n",
      "│        36 │       13 │       536 │      513 │\n",
      "├───────────┼──────────┼───────────┼──────────┤\n",
      "│        17 │       32 │       517 │      532 │\n",
      "├───────────┼──────────┼───────────┼──────────┤\n",
      "│        50 │          │       550 │          │\n",
      "├───────────┼──────────┼───────────┼──────────┤\n",
      "│        35 │          │       535 │          │\n",
      "├───────────┼──────────┼───────────┼──────────┤\n",
      "│         8 │          │       508 │          │\n",
      "├───────────┼──────────┼───────────┼──────────┤\n",
      "│        96 │          │       596 │          │\n",
      "├───────────┼──────────┼───────────┼──────────┤\n",
      "│        28 │          │       528 │          │\n",
      "├───────────┼──────────┼───────────┼──────────┤\n",
      "│        20 │          │       520 │          │\n",
      "├───────────┼──────────┼───────────┼──────────┤\n",
      "│        82 │          │       582 │          │\n",
      "├───────────┼──────────┼───────────┼──────────┤\n",
      "│        26 │          │       526 │          │\n",
      "├───────────┼──────────┼───────────┼──────────┤\n",
      "│        63 │          │       563 │          │\n",
      "├───────────┼──────────┼───────────┼──────────┤\n",
      "│        14 │          │       514 │          │\n",
      "├───────────┼──────────┼───────────┼──────────┤\n",
      "│        25 │          │       525 │          │\n",
      "├───────────┼──────────┼───────────┼──────────┤\n",
      "│         4 │          │       504 │          │\n",
      "├───────────┼──────────┼───────────┼──────────┤\n",
      "│        18 │          │       518 │          │\n",
      "├───────────┼──────────┼───────────┼──────────┤\n",
      "│        39 │          │       539 │          │\n",
      "├───────────┼──────────┼───────────┼──────────┤\n",
      "│         9 │          │       509 │          │\n",
      "├───────────┼──────────┼───────────┼──────────┤\n",
      "│        79 │          │       579 │          │\n",
      "├───────────┼──────────┼───────────┼──────────┤\n",
      "│         7 │          │       507 │          │\n",
      "├───────────┼──────────┼───────────┼──────────┤\n",
      "│        65 │          │       565 │          │\n",
      "├───────────┼──────────┼───────────┼──────────┤\n",
      "│        37 │          │       537 │          │\n",
      "├───────────┼──────────┼───────────┼──────────┤\n",
      "│        90 │          │       590 │          │\n",
      "├───────────┼──────────┼───────────┼──────────┤\n",
      "│        57 │          │       557 │          │\n",
      "├───────────┼──────────┼───────────┼──────────┤\n",
      "│       100 │          │       600 │          │\n",
      "├───────────┼──────────┼───────────┼──────────┤\n",
      "│        55 │          │       555 │          │\n",
      "├───────────┼──────────┼───────────┼──────────┤\n",
      "│        44 │          │       544 │          │\n",
      "├───────────┼──────────┼───────────┼──────────┤\n",
      "│        51 │          │       551 │          │\n",
      "├───────────┼──────────┼───────────┼──────────┤\n",
      "│        68 │          │       568 │          │\n",
      "├───────────┼──────────┼───────────┼──────────┤\n",
      "│        47 │          │       547 │          │\n",
      "├───────────┼──────────┼───────────┼──────────┤\n",
      "│        69 │          │       569 │          │\n",
      "├───────────┼──────────┼───────────┼──────────┤\n",
      "│        62 │          │       562 │          │\n",
      "├───────────┼──────────┼───────────┼──────────┤\n",
      "│        98 │          │       598 │          │\n",
      "├───────────┼──────────┼───────────┼──────────┤\n",
      "│        80 │          │       580 │          │\n",
      "├───────────┼──────────┼───────────┼──────────┤\n",
      "│        42 │          │       542 │          │\n",
      "├───────────┼──────────┼───────────┼──────────┤\n",
      "│        59 │          │       559 │          │\n",
      "├───────────┼──────────┼───────────┼──────────┤\n",
      "│        49 │          │       549 │          │\n",
      "├───────────┼──────────┼───────────┼──────────┤\n",
      "│        99 │          │       599 │          │\n",
      "├───────────┼──────────┼───────────┼──────────┤\n",
      "│        58 │          │       558 │          │\n",
      "├───────────┼──────────┼───────────┼──────────┤\n",
      "│        76 │          │       576 │          │\n",
      "├───────────┼──────────┼───────────┼──────────┤\n",
      "│        33 │          │       533 │          │\n",
      "├───────────┼──────────┼───────────┼──────────┤\n",
      "│        95 │          │       595 │          │\n",
      "├───────────┼──────────┼───────────┼──────────┤\n",
      "│        60 │          │       560 │          │\n",
      "├───────────┼──────────┼───────────┼──────────┤\n",
      "│        64 │          │       564 │          │\n",
      "├───────────┼──────────┼───────────┼──────────┤\n",
      "│        85 │          │       585 │          │\n",
      "├───────────┼──────────┼───────────┼──────────┤\n",
      "│        38 │          │       538 │          │\n",
      "├───────────┼──────────┼───────────┼──────────┤\n",
      "│        30 │          │       530 │          │\n",
      "├───────────┼──────────┼───────────┼──────────┤\n",
      "│         2 │          │       502 │          │\n",
      "├───────────┼──────────┼───────────┼──────────┤\n",
      "│        53 │          │       553 │          │\n",
      "├───────────┼──────────┼───────────┼──────────┤\n",
      "│        22 │          │       522 │          │\n",
      "├───────────┼──────────┼───────────┼──────────┤\n",
      "│         3 │          │       503 │          │\n",
      "├───────────┼──────────┼───────────┼──────────┤\n",
      "│        24 │          │       524 │          │\n",
      "├───────────┼──────────┼───────────┼──────────┤\n",
      "│        88 │          │       588 │          │\n",
      "├───────────┼──────────┼───────────┼──────────┤\n",
      "│        92 │          │       592 │          │\n",
      "├───────────┼──────────┼───────────┼──────────┤\n",
      "│        75 │          │       575 │          │\n",
      "├───────────┼──────────┼───────────┼──────────┤\n",
      "│        87 │          │       587 │          │\n",
      "├───────────┼──────────┼───────────┼──────────┤\n",
      "│        83 │          │       583 │          │\n",
      "├───────────┼──────────┼───────────┼──────────┤\n",
      "│        21 │          │       521 │          │\n",
      "├───────────┼──────────┼───────────┼──────────┤\n",
      "│        61 │          │       561 │          │\n",
      "├───────────┼──────────┼───────────┼──────────┤\n",
      "│        72 │          │       572 │          │\n",
      "├───────────┼──────────┼───────────┼──────────┤\n",
      "│        15 │          │       515 │          │\n",
      "├───────────┼──────────┼───────────┼──────────┤\n",
      "│        93 │          │       593 │          │\n",
      "├───────────┼──────────┼───────────┼──────────┤\n",
      "│        52 │          │       552 │          │\n",
      "╘═══════════╧══════════╧═══════════╧══════════╛\n"
     ]
    }
   ],
   "source": [
    "import numpy as np\n",
    "from sklearn.model_selection import train_test_split\n",
    "from tabulate import tabulate\n",
    "\n",
    "# Generate a sequence of numbers from 1 to 100.\n",
    "\n",
    "a = np.arange(1,101)\n",
    "\n",
    "# Another sequence is generated from 501 to 600.\n",
    "\n",
    "b = np.arange(501,601)\n",
    "\n",
    "# Note that it is possible to output data from two or more arrays at the same time.\n",
    "# test_size, indicates the size of the test, 0.2 means 20% so the train is 80%.\n",
    "# When distributing the data there will always be a problem since it is done randomly, so\n",
    "# every time the model is run everything will change, to avoid this it is necessary to use\n",
    "# the random_state attribute, which keeps the samples the same regardless of the number\n",
    "# of times the model is run, keep in mind that when modifying the number\n",
    "# the sample is modified, so that if 42 (the most used) were changed, it would output a sample\n",
    "# different random.\n",
    "\n",
    "a_train, a_test, b_train, b_test = train_test_split(a, b, test_size=0.2, random_state=42)\n",
    "\n",
    "splitted_model = {'a_train': a_train, 'a_test': a_test, 'b_train': b_train, 'b_test': b_test}\n",
    "\n",
    "print(tabulate(splitted_model, tablefmt='fancy_grid', headers=splitted_model.keys()))"
   ]
  }
 ],
 "metadata": {
  "colab": {
   "provenance": [],
   "toc_visible": true
  },
  "kernelspec": {
   "display_name": "Python 3 (ipykernel)",
   "language": "python",
   "name": "python3"
  },
  "language_info": {
   "codemirror_mode": {
    "name": "ipython",
    "version": 3
   },
   "file_extension": ".py",
   "mimetype": "text/x-python",
   "name": "python",
   "nbconvert_exporter": "python",
   "pygments_lexer": "ipython3",
   "version": "3.9.13"
  }
 },
 "nbformat": 4,
 "nbformat_minor": 1
}
